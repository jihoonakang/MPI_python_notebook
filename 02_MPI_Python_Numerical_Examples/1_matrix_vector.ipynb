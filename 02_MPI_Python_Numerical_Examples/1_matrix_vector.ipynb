{
 "cells": [
  {
   "cell_type": "markdown",
   "metadata": {
    "slideshow": {
     "slide_type": "slide"
    }
   },
   "source": [
<<<<<<< HEAD
    "한국전산유체공학회 제 14차 CFD 단기강좌 (2024.05.29.-2024.05.30.)\n",
=======
>>>>>>> 39667b0 (Update)
    "\n",
    "파이선 병렬프로그래밍: 수치 해석 예제 실습\n",
    "===================================================\n",
    "\n",
    "\n",
    "### 한국과학기술정보연구원 강지훈\n",
    "\n",
    "***\n",
    "\n",
    "### 필요 패키지\n",
    "\n",
    "  - mpi4py\n",
    "  - numpy\n",
    "  - random\n",
    "  - scikit-learn\n",
    "  - matplotlib\n",
    "\n",
    "***\n"
   ]
  },
  {
   "cell_type": "markdown",
   "metadata": {
    "slideshow": {
     "slide_type": "slide"
    }
   },
   "source": [
<<<<<<< HEAD
    "# 1. 벡터와 행렬 연산"
=======
    "# 1. 벡터와 행렬 연산 (I)"
>>>>>>> 39667b0 (Update)
   ]
  },
  {
   "cell_type": "markdown",
   "metadata": {
    "slideshow": {
     "slide_type": "slide"
    }
   },
   "source": [
    "## 1.1. 행렬/벡터 만들기"
   ]
  },
  {
   "cell_type": "code",
<<<<<<< HEAD
   "execution_count": 84,
=======
   "execution_count": 1,
   "metadata": {},
   "outputs": [],
   "source": [
    "!mkdir examples"
   ]
  },
  {
   "cell_type": "code",
   "execution_count": 2,
>>>>>>> 39667b0 (Update)
   "metadata": {
    "slideshow": {
     "slide_type": "slide"
    }
   },
   "outputs": [],
   "source": [
    "import numpy as np\n",
    "\n",
    "np.set_printoptions(linewidth=np.inf)\n",
    "\n",
    "n = 10\n",
    "\n",
    "A = np.random.rand(n, n)\n",
    "B = np.random.rand(n, n)\n",
    "v = np.random.rand(n)\n",
    "w = np.random.rand(n)\n",
    "\n",
<<<<<<< HEAD
    "np.save(\"A\", A)\n",
    "np.save(\"B\", B)\n",
    "np.save(\"v\", v)\n",
    "np.save(\"w\", w)\n",
=======
    "np.save(\"examples/A\", A)\n",
    "np.save(\"examples/B\", B)\n",
    "np.save(\"examples/v\", v)\n",
    "np.save(\"examples/w\", w)\n",
>>>>>>> 39667b0 (Update)
    "\n"
   ]
  },
  {
   "cell_type": "markdown",
   "metadata": {
    "slideshow": {
     "slide_type": "slide"
    }
   },
   "source": [
    "## 1.2. 벡터 내적"
   ]
  },
  {
   "cell_type": "markdown",
   "metadata": {
    "slideshow": {
     "slide_type": "slide"
    }
   },
   "source": [
    "1. 순차코드\n",
    "   \n",
    "   <img src = \"images/image01.png\">"
   ]
  },
  {
   "cell_type": "markdown",
   "metadata": {},
   "source": [
    "2. 병렬코드 - 등분할\n",
    "\n",
    "  <img src = \"images/image02.png\">"
   ]
  },
  {
   "cell_type": "code",
<<<<<<< HEAD
   "execution_count": null,
   "metadata": {},
   "outputs": [],
   "source": [
    "%%writefile v.py\n",
=======
   "execution_count": 5,
   "metadata": {},
   "outputs": [
    {
     "name": "stdout",
     "output_type": "stream",
     "text": [
      "Overwriting examples/v.py\n"
     ]
    }
   ],
   "source": [
    "%%writefile examples/v.py\n",
>>>>>>> 39667b0 (Update)
    "import numpy as np\n",
    "from mpi4py import MPI\n",
    "\n",
    "np.set_printoptions(linewidth=np.inf,precision=3)\n",
    "\n",
    "comm = MPI.COMM_WORLD\n",
    "size = comm.Get_size()\n",
    "rank = comm.Get_rank()\n",
    "\n",
    "if rank == 0:\n",
<<<<<<< HEAD
    "    v = np.load(\"v.npy\")\n",
    "    w = np.load(\"w.npy\")\n",
=======
    "    v = np.load(\"examples/v.npy\")\n",
    "    w = np.load(\"examples/w.npy\")\n",
>>>>>>> 39667b0 (Update)
    "    n = v.size\n",
    "else :\n",
    "    v = None\n",
    "    w = None\n",
    "    n = 0\n",
    "\n",
    "n = comm.bcast(n, root = 0)\n",
    "\n",
    "\n",
    "##### n_row 크기 정하기 \n",
<<<<<<< HEAD
    "n_row = # FIX ME\n",
=======
    "n_row = int(n / size)# FIX ME\n",
>>>>>>> 39667b0 (Update)
    "\n",
    "v_row = np.empty(n_row, dtype = np.float64)\n",
    "w_row = np.empty(n_row, dtype = np.float64)\n",
    "\n",
    "##### Scatter 함수 호출\n",
<<<<<<< HEAD
    "comm.Scatter( # FIX ME\n",
    "comm.Scatter( # FIX ME\n",
    "\n",
    "##### 프로세스별 Local sum \n",
    "s = np.dot( # FIX ME\n",
    "\n",
    "##### reduce를 이용한 Global sum\n",
    "s_all = comm.allreduce( # FIX ME\n",
=======
    "comm.Scatter(v, v_row, root = 0) # FIX ME\n",
    "comm.Scatter(w, w_row, root = 0) # FIX ME\n",
    "\n",
    "##### 프로세스별 Local sum \n",
    "s = np.dot(v_row,w_row) # FIX ME\n",
    "\n",
    "##### reduce를 이용한 Global sum\n",
    "s_all = comm.allreduce(s, MPI.SUM) # FIX ME\n",
>>>>>>> 39667b0 (Update)
    "\n",
    "#if rank == 1:\n",
    "print(rank, s_all)\n"
   ]
  },
  {
   "cell_type": "code",
<<<<<<< HEAD
   "execution_count": null,
   "metadata": {},
   "outputs": [],
   "source": [
    "! mpirun -np 2 python v.py"
=======
   "execution_count": 6,
   "metadata": {},
   "outputs": [
    {
     "name": "stdout",
     "output_type": "stream",
     "text": [
      "0 1.8757158337305404\n",
      "1 1.8757158337305404\n"
     ]
    }
   ],
   "source": [
    "! mpiexec -np 2 python examples/v.py"
>>>>>>> 39667b0 (Update)
   ]
  },
  {
   "cell_type": "markdown",
   "metadata": {},
   "source": [
    "3. 병렬코드 - 비등분할\n",
    "\n",
    "    <img src = \"images/image03.png\">"
   ]
  },
  {
   "cell_type": "code",
<<<<<<< HEAD
   "execution_count": null,
   "metadata": {},
   "outputs": [],
   "source": [
    "%%writefile v_var.py\n",
=======
   "execution_count": 9,
   "metadata": {},
   "outputs": [
    {
     "name": "stdout",
     "output_type": "stream",
     "text": [
      "Overwriting examples/v_var.py\n"
     ]
    }
   ],
   "source": [
    "%%writefile examples/v_var.py\n",
>>>>>>> 39667b0 (Update)
    "import numpy as np\n",
    "from mpi4py import MPI\n",
    "\n",
    "def para_range(n, size, rank) :\n",
    "    iwork = divmod(n, size) \n",
    "    ista = rank * iwork[0] + min(rank, iwork[1])\n",
    "    iend = ista + iwork[0] - 1\n",
    "    if iwork[1] > rank :\n",
    "        iend = iend + 1\n",
    "    return ista, iend\n",
    "\n",
    "comm = MPI.COMM_WORLD\n",
    "size = comm.Get_size()\n",
    "rank = comm.Get_rank()\n",
    "\n",
    "if rank == 0:\n",
<<<<<<< HEAD
    "    v = np.load(\"v.npy\")\n",
    "    w = np.load(\"w.npy\")\n",
=======
    "    v = np.load(\"examples/v.npy\")\n",
    "    w = np.load(\"examples/w.npy\")\n",
>>>>>>> 39667b0 (Update)
    "    n = v.size\n",
    "else :\n",
    "    v = None\n",
    "    w = None\n",
    "    n = 0\n",
    "\n",
    "n = comm.bcast(n, root = 0)\n",
    "\n",
    "##### 프로세스별 범위 할당\n",
<<<<<<< HEAD
    "ista, iend = # FIX ME\n",
    "n_row = # FIX ME\n",
=======
    "ista, iend = para_range(n, size, rank) # FIX ME\n",
    "n_row =  (iend - ista + 1) # FIX ME\n",
>>>>>>> 39667b0 (Update)
    "\n",
    "n_rows = comm.gather(n_row, root = 0)\n",
    "\n",
    "v_row = np.empty(n_row, dtype = np.float64)\n",
    "w_row = np.empty(n_row, dtype = np.float64)\n",
    "\n",
    "##### Scatter\n",
<<<<<<< HEAD
    "comm.Scatterv( #FIX ME\n",
    "comm.Scatterv( #FIX ME\n",
=======
    "comm.Scatterv((v, n_rows), v_row, root = 0) #FIX ME\n",
    "comm.Scatterv((w, n_rows), w_row, root = 0) #FIX ME\n",
>>>>>>> 39667b0 (Update)
    "\n",
    "s = np.dot(v_row,w_row)\n",
    "\n",
    "##### reduce를 이용한 Global sum\n",
<<<<<<< HEAD
    "s_all = comm.reduce( #FIX ME\n",
=======
    "s_all = comm.reduce(s, MPI.SUM, root = 0) #FIX ME\n",
>>>>>>> 39667b0 (Update)
    "\n",
    "if rank == 0:\n",
    "    print(n_rows)\n",
    "    print(s_all)\n"
   ]
  },
  {
   "cell_type": "code",
<<<<<<< HEAD
   "execution_count": null,
   "metadata": {},
   "outputs": [],
   "source": [
    "! mpirun -np 3 python v_var.py"
=======
   "execution_count": 10,
   "metadata": {},
   "outputs": [
    {
     "name": "stdout",
     "output_type": "stream",
     "text": [
      "[4, 3, 3]\n",
      "1.8757158337305406\n"
     ]
    }
   ],
   "source": [
    "! mpiexec -np 3 python examples/v_var.py"
>>>>>>> 39667b0 (Update)
   ]
  },
  {
   "cell_type": "markdown",
   "metadata": {},
   "source": [
    "4. para_range 저장"
   ]
  },
  {
   "cell_type": "code",
<<<<<<< HEAD
   "execution_count": null,
   "metadata": {},
   "outputs": [],
   "source": [
    "%%writefile tools.py\n",
=======
   "execution_count": 11,
   "metadata": {},
   "outputs": [
    {
     "name": "stdout",
     "output_type": "stream",
     "text": [
      "Writing examples/tools.py\n"
     ]
    }
   ],
   "source": [
    "%%writefile examples/tools.py\n",
>>>>>>> 39667b0 (Update)
    "\n",
    "def para_range(n, size, rank) :\n",
    "    iwork = divmod(n, size) \n",
    "    ista = rank * iwork[0] + min(rank, iwork[1])\n",
    "    iend = ista + iwork[0] - 1\n",
    "    if iwork[1] > rank :\n",
    "        iend = iend + 1\n",
    "    return ista, iend\n"
   ]
  },
  {
   "cell_type": "markdown",
   "metadata": {},
   "source": [
    "## 1.3. 행렬-벡터곱"
   ]
  },
  {
   "cell_type": "markdown",
   "metadata": {},
   "source": [
    "1. 순차코드\n",
    "   \n",
    "    <img src = \"images/image04.png\">"
   ]
  },
  {
   "cell_type": "code",
<<<<<<< HEAD
   "execution_count": null,
   "metadata": {},
   "outputs": [],
   "source": [
    "A = np.load(\"A.npy\")\n",
    "v = np.load(\"v.npy\")\n",
=======
   "execution_count": 12,
   "metadata": {},
   "outputs": [
    {
     "name": "stdout",
     "output_type": "stream",
     "text": [
      "[1.93203202 2.81165829 2.3916295  1.73420345 1.64942189 3.21079059 2.08284085 1.62287122 1.90584398 2.13544079]\n"
     ]
    }
   ],
   "source": [
    "A = np.load(\"examples/A.npy\")\n",
    "v = np.load(\"examples/v.npy\")\n",
>>>>>>> 39667b0 (Update)
    "\n",
    "b = np.matmul(A,v)\n",
    "print (b)\n"
   ]
  },
  {
   "cell_type": "markdown",
   "metadata": {},
   "source": [
    "2. 행렬의 행 등분할\n",
    "\n",
    "    <img src = \"images/image05.png\">"
   ]
  },
  {
   "cell_type": "code",
<<<<<<< HEAD
   "execution_count": null,
   "metadata": {},
   "outputs": [],
   "source": [
    "%%writefile Av.py\n",
=======
   "execution_count": 13,
   "metadata": {},
   "outputs": [
    {
     "name": "stdout",
     "output_type": "stream",
     "text": [
      "Writing examples/Av.py\n"
     ]
    }
   ],
   "source": [
    "%%writefile examples/Av.py\n",
>>>>>>> 39667b0 (Update)
    "\n",
    "import numpy as np\n",
    "from mpi4py import MPI\n",
    "\n",
    "comm = MPI.COMM_WORLD\n",
    "\n",
    "rank = comm.Get_rank()\n",
    "size = comm.Get_size()\n",
    "\n",
    "if rank == 0 :\n",
<<<<<<< HEAD
    "    A = np.load(\"A.npy\")\n",
    "    v = np.load(\"v.npy\")\n",
=======
    "    A = np.load(\"examples/A.npy\")\n",
    "    v = np.load(\"examples/v.npy\")\n",
>>>>>>> 39667b0 (Update)
    "    n = v.size\n",
    "    n = comm.bcast(n, root = 0)\n",
    "else :\n",
    "    A = None\n",
    "    n = 0\n",
    "    n = comm.bcast(n, root = 0)\n",
    "    v = np.empty(n, dtype = np.float64)\n",
    "\n",
    "n_row = int(n / size)\n",
    "\n",
    "A_row = np.empty((n_row, n), dtype = np.float64)\n",
    "\n",
    "##### 행렬의 행 분할\n",
<<<<<<< HEAD
    "comm.Scatter( #FIX ME\n",
=======
    "comm.Scatter(A, A_row, root = 0) #FIX ME\n",
>>>>>>> 39667b0 (Update)
    "\n",
    "comm.Bcast(v, root = 0)\n",
    "\n",
    "##### 분할된 행렬과의 연산\n",
<<<<<<< HEAD
    "b = np.matmul( #FIX ME\n",
=======
    "b = np.matmul(A_row,v) #FIX ME\n",
>>>>>>> 39667b0 (Update)
    "\n",
    "print(b, rank)"
   ]
  },
  {
   "cell_type": "code",
<<<<<<< HEAD
   "execution_count": null,
   "metadata": {},
   "outputs": [],
   "source": [
    "! mpirun -np 2 python Av.py"
=======
   "execution_count": 14,
   "metadata": {},
   "outputs": [
    {
     "name": "stdout",
     "output_type": "stream",
     "text": [
      "[1.93203202 2.81165829 2.3916295  1.73420345 1.64942189] 0\n",
      "[3.21079059 2.08284085 1.62287122 1.90584398 2.13544079] 1\n"
     ]
    }
   ],
   "source": [
    "! mpiexec -np 2 python examples/Av.py"
>>>>>>> 39667b0 (Update)
   ]
  },
  {
   "cell_type": "markdown",
   "metadata": {},
   "source": [
    "3. 행렬의 행 비등분할\n",
    "\n",
    "    <img src = \"images/image06.png\">"
   ]
  },
  {
   "cell_type": "code",
<<<<<<< HEAD
   "execution_count": null,
   "metadata": {},
   "outputs": [],
   "source": [
    "%%writefile Avar.py\n",
=======
   "execution_count": 15,
   "metadata": {},
   "outputs": [
    {
     "name": "stdout",
     "output_type": "stream",
     "text": [
      "Writing examples/Avar.py\n"
     ]
    }
   ],
   "source": [
    "%%writefile examples/Avar.py\n",
>>>>>>> 39667b0 (Update)
    "\n",
    "# Matrix A의 Row decomposition\n",
    "\n",
    "import numpy as np\n",
    "from mpi4py import MPI\n",
    "from tools import para_range\n",
    "\n",
    "comm = MPI.COMM_WORLD\n",
    "\n",
    "rank = comm.Get_rank()\n",
    "size = comm.Get_size()\n",
    "\n",
    "if rank == 0 :\n",
<<<<<<< HEAD
    "    A = np.load(\"A.npy\")\n",
    "    v = np.load(\"v.npy\")\n",
=======
    "    A = np.load(\"examples/A.npy\")\n",
    "    v = np.load(\"examples/v.npy\")\n",
>>>>>>> 39667b0 (Update)
    "    n = v.size\n",
    "    n = comm.bcast(n, root = 0)\n",
    "\n",
    "else :\n",
    "    A = None\n",
    "    n = 0\n",
    "    n = comm.bcast(n, root = 0)\n",
    "    v = np.empty(n, dtype = np.float64)\n",
    "\n",
    "ista, iend = para_range(n, size, rank)\n",
    "\n",
    "n_row = (iend - ista + 1)\n",
    "\n",
    "A_row = np.empty((n_row, n), dtype = np.float64)\n",
    "\n",
    "##### 행렬의 행 분할 및 각 프로세스별 크기 지정\n",
<<<<<<< HEAD
    "n_rows = comm.gather( #FIX ME\n",
    "\n",
    "comm.Scatterv( #FIX ME\n",
=======
    "n_rows = comm.gather(n_row * n, root = 0) #FIX ME\n",
    "\n",
    "comm.Scatterv((A, n_rows), A_row, root = 0) #FIX ME\n",
>>>>>>> 39667b0 (Update)
    "comm.Bcast(v, root = 0)\n",
    "\n",
    "b = np.matmul(A_row,v)\n",
    "\n",
    "print(b, rank)"
   ]
  },
  {
   "cell_type": "code",
<<<<<<< HEAD
   "execution_count": null,
   "metadata": {},
   "outputs": [],
   "source": [
    "! mpirun -np 3 python Avar.py"
=======
   "execution_count": 16,
   "metadata": {},
   "outputs": [
    {
     "name": "stdout",
     "output_type": "stream",
     "text": [
      "[1.64942189 3.21079059 2.08284085] 1\n",
      "[1.62287122 1.90584398 2.13544079] 2\n",
      "[1.93203202 2.81165829 2.3916295  1.73420345] 0\n"
     ]
    }
   ],
   "source": [
    "! mpiexec -np 3 python examples/Avar.py"
>>>>>>> 39667b0 (Update)
   ]
  },
  {
   "cell_type": "markdown",
   "metadata": {},
   "source": [
    "4. 행렬/벡터의 행 비등분할\n",
    "\n",
<<<<<<< HEAD
    "    <img src = \"images/image07.png\">"
=======
    "    <img src = \"images/image07_1.png\">"
   ]
  },
  {
   "cell_type": "markdown",
   "metadata": {},
   "source": [
    "- $w_0$계산을 위해 각 프로세스가 소유한 $v$들이 필요 \n",
    "  \n",
    "  <img src = \"images/image07_2.png\">"
   ]
  },
  {
   "cell_type": "markdown",
   "metadata": {},
   "source": [
    "- 최종 형태\n",
    "\n",
    "    <img src = \"images/image07_3.png\">"
>>>>>>> 39667b0 (Update)
   ]
  },
  {
   "cell_type": "code",
<<<<<<< HEAD
   "execution_count": null,
   "metadata": {},
   "outputs": [],
   "source": [
    "%%writefile Av_var.py\n",
=======
   "execution_count": 17,
   "metadata": {},
   "outputs": [
    {
     "name": "stdout",
     "output_type": "stream",
     "text": [
      "Writing examples/Av_var.py\n"
     ]
    }
   ],
   "source": [
    "%%writefile examples/Av_var.py\n",
>>>>>>> 39667b0 (Update)
    "\n",
    "# Matrix A의 Row decomposition\n",
    "\n",
    "from tools import para_range\n",
    "import numpy as np\n",
    "from mpi4py import MPI\n",
    "\n",
    "comm = MPI.COMM_WORLD\n",
    "\n",
    "rank = comm.Get_rank()\n",
    "size = comm.Get_size()\n",
    "\n",
    "if rank == 0 :\n",
<<<<<<< HEAD
    "    A = np.load(\"A.npy\")\n",
    "    v = np.load(\"v.npy\")\n",
=======
    "    A = np.load(\"examples/A.npy\")\n",
    "    v = np.load(\"examples/v.npy\")\n",
>>>>>>> 39667b0 (Update)
    "    n = v.size\n",
    "    n = comm.bcast(n, root = 0)\n",
    "\n",
    "else :\n",
    "    A = None\n",
    "    v = None\n",
    "    n = 0\n",
    "    n = comm.bcast(n, root = 0)\n",
    "\n",
    "ista, iend = para_range(n, size, rank)\n",
    "\n",
    "n_row = (iend - ista + 1)\n",
    "\n",
    "A_row = np.empty((n_row, n), dtype = np.float64)\n",
    "v_row = np.empty(n_row, dtype = np.float64)\n",
    "\n",
    "##### 행렬의 행 분할 및 각 프로세스별 크기 지정\n",
<<<<<<< HEAD
    "n_chunks = comm.gather( #FIX ME\n",
    "n_rows = comm.allgather( #FIX ME\n",
    "\n",
    "comm.Scatterv( #FIX ME\n",
    "comm.Scatterv( #FIX ME\n",
=======
    "n_chunks = comm.gather(n_row * n, root = 0) #FIX ME\n",
    "n_rows = comm.allgather(n_row) #FIX ME\n",
    "\n",
    "comm.Scatterv([A, n_chunks], A_row, root = 0) #FIX ME\n",
    "comm.Scatterv([v, n_rows], v_row, root = 0) #FIX ME\n",
>>>>>>> 39667b0 (Update)
    "\n",
    "##### 분할된 벡터 곱 범위 지정\n",
    "vsta_list = []\n",
    "vend_list = []\n",
    "\n",
    "for i in range(size) :\n",
<<<<<<< HEAD
    "    vsta_list.append( #FIX ME\n",
    "    vend_list.append( #FIX ME\n",
    "\n",
    "##### Local MV (최초 자신의 벡터부분)\n",
    "b = np.matmul( #FIX ME\n",
    "\n",
    "##### 송수신 프로세스 지정\n",
    "inext = #FIX ME\n",
    "iprev = #FIX ME\n",
=======
    "    vsta_list.append(sum(n_rows[:i])) #FIX ME\n",
    "    vend_list.append(sum(n_rows[:i])+n_rows[i]) #FIX ME\n",
    "\n",
    "##### Local MV (최초 자신의 벡터부분)\n",
    "b = np.matmul(A_row[:,vsta_list[rank]:vend_list[rank]], v_row) #FIX ME\n",
    "\n",
    "##### 송수신 프로세스 지정\n",
    "inext = rank + 1 if rank < size - 1 else 0 #FIX ME\n",
    "iprev = rank - 1 if rank > 0 else size - 1 #FIX ME\n",
>>>>>>> 39667b0 (Update)
    "\n",
    "for i in range(size - 1) :\n",
    "    iloc = iprev - i if iprev >= i else iprev - i + size\n",
    "    v_recv = np.empty(n_rows[iloc], dtype = np.float64)\n",
    "    ##### 통신\n",
<<<<<<< HEAD
    "    comm.Sendrecv( #FIX ME\n",
=======
    "    comm.Sendrecv(v_row, inext, 1, v_recv, iprev, 1) #FIX ME\n",
>>>>>>> 39667b0 (Update)
    "    v_row = np.copy(v_recv)\n",
    "    b += np.matmul(A_row[:,vsta_list[iloc]:vend_list[iloc]], v_row)\n",
    "\n",
    "print(b, rank)"
   ]
  },
  {
   "cell_type": "code",
<<<<<<< HEAD
   "execution_count": null,
   "metadata": {},
   "outputs": [],
   "source": [
    "! mpirun -np 3 python Av_var.py"
   ]
  },
  {
   "cell_type": "markdown",
   "metadata": {},
   "source": [
    "## 3. 행렬-행렬 곱"
   ]
  },
  {
   "cell_type": "markdown",
   "metadata": {},
   "source": [
    "1. 순차코드\n",
    "\n",
    "    <img src = \"images/image08.png\">"
   ]
  },
  {
   "cell_type": "code",
   "execution_count": null,
   "metadata": {},
   "outputs": [],
   "source": [
    "A = np.load(\"A.npy\")\n",
    "B = np.load(\"B.npy\")\n",
    "\n",
    "C = np.matmul(A, B)\n",
    "print (C)\n"
   ]
  },
  {
   "cell_type": "markdown",
   "metadata": {},
   "source": [
    "2. 행렬A의 행분할\n",
    "\n",
    "    <img src = \"images/image09.png\">"
   ]
  },
  {
   "cell_type": "code",
   "execution_count": null,
   "metadata": {},
   "outputs": [],
   "source": [
    "%%writefile AB.py\n",
    "\n",
    "import numpy as np\n",
    "from mpi4py import MPI\n",
    "\n",
    "comm = MPI.COMM_WORLD\n",
    "\n",
    "rank = comm.Get_rank()\n",
    "size = comm.Get_size()\n",
    "\n",
    "if rank == 0 :\n",
    "    A = np.load(\"A.npy\")\n",
    "    B = np.load(\"B.npy\")\n",
    "    n = A[0].size\n",
    "    n = comm.bcast(n, root = 0)\n",
    "\n",
    "else :\n",
    "    n = 0\n",
    "    n = comm.bcast(n, root = 0)\n",
    "    A = None\n",
    "    B = np.empty((n, n), dtype = np.float64)\n",
    "\n",
    "n_row = int(n / size)\n",
    "\n",
    "A_row = np.empty((n_row, n), dtype = np.float64)\n",
    "\n",
    "##### 행렬 A의 분할\n",
    "comm.Scatter( #FIX ME\n",
    "comm.Bcast(B, root = 0)\n",
    "\n",
    "C = np.matmul(A_row,B)\n",
    "\n",
    "print(C, rank)"
   ]
  },
  {
   "cell_type": "code",
   "execution_count": null,
   "metadata": {},
   "outputs": [],
   "source": [
    "! mpirun -np 2 python AB.py"
   ]
  },
  {
   "cell_type": "markdown",
   "metadata": {},
   "source": [
    "3. 행렬A의 행분할 (비등분할)\n",
    "\n",
    "    <img src = \"images/image10.png\">"
   ]
  },
  {
   "cell_type": "code",
   "execution_count": null,
   "metadata": {},
   "outputs": [],
   "source": [
    "%%writefile AvarB.py\n",
    "\n",
    "# Matrix A의 Row decomposition\n",
    "\n",
    "import numpy as np\n",
    "from mpi4py import MPI\n",
    "from tools import para_range\n",
    "\n",
    "comm = MPI.COMM_WORLD\n",
    "\n",
    "rank = comm.Get_rank()\n",
    "size = comm.Get_size()\n",
    "\n",
    "if rank == 0 :\n",
    "    A = np.load(\"A.npy\")\n",
    "    B = np.load(\"B.npy\")\n",
    "    n = A[0].size\n",
    "    n = comm.bcast(n, root = 0)\n",
    "else :\n",
    "    n = 0\n",
    "    n = comm.bcast(n, root = 0)\n",
    "    A = None\n",
    "    B = np.empty((n, n), dtype = np.float64)\n",
    "\n",
    "##### 행렬 A의 분할 범위\n",
    "ista, iend = #FIX ME\n",
    "\n",
    "n_row = #FIX ME\n",
    "\n",
    "A_row = np.empty((n_row, n), dtype = np.float64)\n",
    "n_list = comm.gather(n_row * n, root = 0)\n",
    "\n",
    "##### 행렬 A의 분할\n",
    "comm.Scatterv( #FIX ME\n",
    "comm.Bcast(B, root = 0)\n",
    "\n",
    "C_rows = np.matmul(A_row,B)\n",
    "\n",
    "print(C_rows, rank)"
   ]
  },
  {
   "cell_type": "code",
   "execution_count": null,
   "metadata": {},
   "outputs": [],
   "source": [
    "! mpirun -np 3 python AvarB.py"
   ]
  },
  {
   "cell_type": "markdown",
   "metadata": {},
   "source": [
    "4. 행렬A의 행분할, 행렬 B의 열분할\n",
    "\n",
    "    <img src = \"images/image11.png\">"
   ]
  },
  {
   "cell_type": "code",
   "execution_count": null,
   "metadata": {},
   "outputs": [],
   "source": [
    "%%writefile ABvar.py\n",
    "\n",
    "import numpy as np\n",
    "from mpi4py import MPI\n",
    "from tools import para_range\n",
    "\n",
    "comm = MPI.COMM_WORLD\n",
    "\n",
    "rank = comm.Get_rank()\n",
    "size = comm.Get_size()\n",
    "\n",
    "if rank == 0 :\n",
    "    A = np.load(\"A.npy\")\n",
    "    B = np.load(\"B.npy\")\n",
    "    BT = np.transpose(B).copy()\n",
    "    n = A[0].size\n",
    "    n = comm.bcast(n, root = 0)\n",
    "\n",
    "else :\n",
    "    n = 0\n",
    "    n = comm.bcast(n, root = 0)\n",
    "    A = None\n",
    "    BT = None\n",
    "\n",
    "ista, iend = para_range(n, size, rank)\n",
    "\n",
    "n_row = (iend - ista + 1)\n",
    "\n",
    "A_row = np.empty((n_row, n), dtype = np.float64)\n",
    "BT_row = np.empty((n_row, n), dtype = np.float64)\n",
    "n_rows = comm.allgather(n_row * n)\n",
    "\n",
    "##### 행렬 A, B의 분할\n",
    "comm.Scatterv( #FIX ME\n",
    "comm.Scatterv( #FIX ME\n",
    "B_col = np.transpose(BT_row)\n",
    "\n",
    "inext = rank + 1 if rank < size - 1 else 0\n",
    "iprev = rank - 1 if rank > 0 else size - 1\n",
    "\n",
    "C_unordered_rows = np.matmul(A_row, B_col)\n",
    "\n",
    "for i in range(size - 1) :\n",
    "    iloc = iprev - i if iprev >= i else iprev - i + size\n",
    "    B_recv = np.empty(n_rows[iloc], dtype = np.float64)\n",
    "\n",
    "    ##### 분할된 행렬 B를 송수신하고 A의 분할된 부분과 곱하여 C에 저장\n",
    "    comm.Sendrecv( #FIX ME\n",
    "    B_col = np.copy(B_recv)\n",
    "    B_col = np.reshape( #FIX ME\n",
    "    C_block = np.matmul( #FIX ME\n",
    "    C_unordered_rows = np.append( #FIX ME\n",
    "\n",
    "print(C_unordered_rows, rank)"
   ]
  },
  {
   "cell_type": "code",
   "execution_count": null,
   "metadata": {},
   "outputs": [],
   "source": [
    "! mpirun -np 3 python ABvar.py"
   ]
  },
  {
   "cell_type": "markdown",
   "metadata": {},
   "source": [
    "5. 직접 해보기\n",
    "    - 올바른 크기의 C를 미리 선언하고 적절한 위치에 C_block 을 배치\n",
    "    - 3의 C_rows와 같은 결과를 얻음\n"
   ]
  },
  {
   "cell_type": "markdown",
   "metadata": {},
   "source": []
=======
   "execution_count": 18,
   "metadata": {},
   "outputs": [
    {
     "name": "stdout",
     "output_type": "stream",
     "text": [
      "[1.64942189 3.21079059 2.08284085] 1\n",
      "[1.93203202 2.81165829 2.3916295  1.73420345] 0\n",
      "[1.62287122 1.90584398 2.13544079] 2\n"
     ]
    }
   ],
   "source": [
    "! mpiexec -np 3 python examples/Av_var.py"
   ]
>>>>>>> 39667b0 (Update)
  }
 ],
 "metadata": {
  "kernelspec": {
<<<<<<< HEAD
   "display_name": "Python 3 (ipykernel)",
=======
   "display_name": "ml",
>>>>>>> 39667b0 (Update)
   "language": "python",
   "name": "python3"
  },
  "language_info": {
   "codemirror_mode": {
    "name": "ipython",
    "version": 3
   },
   "file_extension": ".py",
   "mimetype": "text/x-python",
   "name": "python",
   "nbconvert_exporter": "python",
   "pygments_lexer": "ipython3",
   "version": "3.11.9"
  }
 },
 "nbformat": 4,
 "nbformat_minor": 4
}
