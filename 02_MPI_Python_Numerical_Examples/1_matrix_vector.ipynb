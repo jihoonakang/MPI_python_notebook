{
 "cells": [
  {
   "cell_type": "markdown",
   "metadata": {
    "slideshow": {
     "slide_type": "slide"
    }
   },
   "source": [
    "\n",
    "파이선 병렬프로그래밍: 수치 해석 예제 실습\n",
    "===================================================\n",
    "\n",
    "\n",
    "#### 2024.10.\n",
    "### 한국과학기술정보연구원 강지훈\n",
    "\n",
    "***\n",
    "\n",
    "### 필요 패키지\n",
    "\n",
    "  - mpi4py\n",
    "  - numpy\n",
    "  - random\n",
    "  - scikit-learn\n",
    "  - matplotlib\n",
    "\n",
    "***\n"
   ]
  },
  {
   "cell_type": "markdown",
   "metadata": {
    "slideshow": {
     "slide_type": "slide"
    }
   },
   "source": [
    "# 1. 벡터와 행렬 연산 (I)"
   ]
  },
  {
   "cell_type": "markdown",
   "metadata": {
    "slideshow": {
     "slide_type": "slide"
    }
   },
   "source": [
    "## 1.1. 행렬/벡터 만들기"
   ]
  },
  {
   "cell_type": "code",
   "execution_count": null,
   "metadata": {},
   "outputs": [],
   "source": [
    "!mkdir examples"
   ]
  },
  {
   "cell_type": "code",
   "execution_count": 2,
   "metadata": {
    "slideshow": {
     "slide_type": "slide"
    }
   },
   "outputs": [],
   "source": [
    "import numpy as np\n",
    "\n",
    "np.set_printoptions(linewidth=np.inf)\n",
    "\n",
    "n = 10\n",
    "\n",
    "A = np.random.rand(n, n)\n",
    "B = np.random.rand(n, n)\n",
    "v = np.random.rand(n)\n",
    "w = np.random.rand(n)\n",
    "\n",
    "np.save(\"examples/A\", A)\n",
    "np.save(\"examples/B\", B)\n",
    "np.save(\"examples/v\", v)\n",
    "np.save(\"examples/w\", w)\n"
   ]
  },
  {
   "cell_type": "markdown",
   "metadata": {
    "slideshow": {
     "slide_type": "slide"
    }
   },
   "source": [
    "## 1.2. 벡터 내적"
   ]
  },
  {
   "cell_type": "markdown",
   "metadata": {
    "slideshow": {
     "slide_type": "slide"
    }
   },
   "source": [
    "1. 순차코드\n",
    "   \n",
    "   <img src = \"images/image01.png\">"
   ]
  },
  {
   "cell_type": "markdown",
   "metadata": {},
   "source": [
    "2. 병렬코드 - 등분할\n",
    "\n",
    "    <img src = \"images/image02.png\">"
   ]
  },
  {
   "cell_type": "code",
   "execution_count": null,
   "metadata": {},
   "outputs": [],
   "source": [
    "%%writefile examples/v.py\n",
    "import numpy as np\n",
    "from mpi4py import MPI\n",
    "\n",
    "np.set_printoptions(linewidth=np.inf,precision=3)\n",
    "\n",
    "comm = MPI.COMM_WORLD\n",
    "size = comm.Get_size()\n",
    "rank = comm.Get_rank()\n",
    "\n",
    "if rank == 0:\n",
    "    v = np.load(\"examples/v.npy\")\n",
    "    w = np.load(\"examples/w.npy\")\n",
    "    n = v.size\n",
    "else :\n",
    "    v = None\n",
    "    w = None\n",
    "    n = 0\n",
    "\n",
    "n = comm.bcast(n, root = 0)\n",
    "\n",
    "\n",
    "##### n_local 크기 정하기 \n",
    "n_local = int(n / size) # FIX ME\n",
    "\n",
    "##### 분할된 n_local 크기만큼 배열 생성 \n",
    "v_local = np.empty(n_local, dtype = np.float64)\n",
    "w_local = np.empty(n_local, dtype = np.float64)\n",
    "\n",
    "##### Scatter 함수로 벡터 분할\n",
    "comm.Scatter(v, v_local, root = 0) # FIX ME\n",
    "comm.Scatter(w, w_local, root = 0) # FIX ME\n",
    "\n",
    "##### 프로세스별 Local sum \n",
    "s_local = np.dot(v_local, w_local) # FIX ME\n",
    "\n",
    "##### reduce를 이용한 Global sum\n",
    "s_global = comm.allreduce(s_local, MPI.SUM) # FIX ME\n",
    "\n",
    "#if rank == 1:\n",
    "print(rank, s_global)\n"
   ]
  },
  {
   "cell_type": "code",
   "execution_count": null,
   "metadata": {},
   "outputs": [],
   "source": [
    "! mpiexec -np 2 python examples/v.py"
   ]
  },
  {
   "cell_type": "markdown",
   "metadata": {},
   "source": [
    "3. 병렬코드 - 비등분할\n",
    "\n",
    "    <img src = \"images/image03.png\">"
   ]
  },
  {
   "cell_type": "code",
   "execution_count": null,
   "metadata": {},
   "outputs": [],
   "source": [
    "%%writefile examples/v_var.py\n",
    "import numpy as np\n",
    "from mpi4py import MPI\n",
    "\n",
    "##### 시작점과 끝접의 인덱스를 반환\n",
    "def para_range(n, size, rank) :\n",
    "    iwork = divmod(n, size) \n",
    "    ista = rank * iwork[0] + min(rank, iwork[1])\n",
    "    iend = ista + iwork[0] - 1\n",
    "    if iwork[1] > rank :\n",
    "        iend = iend + 1\n",
    "    return ista, iend\n",
    "\n",
    "comm = MPI.COMM_WORLD\n",
    "size = comm.Get_size()\n",
    "rank = comm.Get_rank()\n",
    "\n",
    "if rank == 0:\n",
    "    v = np.load(\"examples/v.npy\")\n",
    "    w = np.load(\"examples/w.npy\")\n",
    "    n = v.size\n",
    "else :\n",
    "    v = None\n",
    "    w = None\n",
    "    n = 0\n",
    "\n",
    "##### 벡터의 전체 크기를 broadcast\n",
    "n = comm.bcast(n, root = 0)\n",
    "\n",
    "##### 프로세스별 범위 할당\n",
    "ista, iend = para_range(n, size, rank) # FIX ME\n",
    "n_local = iend - ista + 1# FIX ME\n",
    "\n",
    "\n",
    "##### Scatterv를 위해 n_local로부터 n_local_cnts 리스트 생성\n",
    "n_local_cnts = comm.gather(n_local, root = 0)\n",
    "\n",
    "v_local = np.empty(n_local, dtype = np.float64)\n",
    "w_local = np.empty(n_local, dtype = np.float64)\n",
    "\n",
    "##### n_local_cnts 리스트를 이용하여 Scatter로 벡터의 비균등 할당\n",
    "comm.Scatterv((v, n_local_cnts), v_local, root = 0) #FIX ME\n",
    "comm.Scatterv((w, n_local_cnts), w_local, root = 0) #FIX ME\n",
    "\n",
    "##### 분할된 벡터의 내적\n",
    "s_local = np.dot(v_local,w_local)\n",
    "\n",
    "##### reduce를 이용한 Global sum\n",
    "s_global = comm.reduce(s_local, MPI.SUM) #FIX ME\n",
    "\n",
    "if rank == 0:\n",
    "    print(n_local_cnts)\n",
    "    print(s_global)\n"
   ]
  },
  {
   "cell_type": "code",
   "execution_count": null,
   "metadata": {},
   "outputs": [],
   "source": [
    "! mpiexec -np 3 python examples/v_var.py"
   ]
  },
  {
   "cell_type": "markdown",
   "metadata": {},
   "source": [
    "4. para_range 저장"
   ]
  },
  {
   "cell_type": "code",
   "execution_count": null,
   "metadata": {},
   "outputs": [],
   "source": [
    "%%writefile examples/tools.py\n",
    "\n",
    "def para_range(n, size, rank) :\n",
    "    iwork = divmod(n, size) \n",
    "    ista = rank * iwork[0] + min(rank, iwork[1])\n",
    "    iend = ista + iwork[0] - 1\n",
    "    if iwork[1] > rank :\n",
    "        iend = iend + 1\n",
    "    return ista, iend\n"
   ]
  },
  {
   "cell_type": "markdown",
   "metadata": {},
   "source": [
    "## 1.3. 행렬-벡터곱"
   ]
  },
  {
   "cell_type": "markdown",
   "metadata": {},
   "source": [
    "1. 순차코드\n",
    "   \n",
    "    <img src = \"images/image04.png\">"
   ]
  },
  {
   "cell_type": "code",
   "execution_count": null,
   "metadata": {},
   "outputs": [],
   "source": [
    "A = np.load(\"examples/A.npy\")\n",
    "v = np.load(\"examples/v.npy\")\n",
    "\n",
    "b = np.matmul(A,v)\n",
    "print (b)\n"
   ]
  },
  {
   "cell_type": "markdown",
   "metadata": {},
   "source": [
    "2. 행렬의 행 등분할\n",
    "\n",
    "    <img src = \"images/image05.png\">"
   ]
  },
  {
   "cell_type": "code",
   "execution_count": null,
   "metadata": {},
   "outputs": [],
   "source": [
    "%%writefile examples/Av.py\n",
    "\n",
    "import numpy as np\n",
    "from mpi4py import MPI\n",
    "\n",
    "comm = MPI.COMM_WORLD\n",
    "\n",
    "rank = comm.Get_rank()\n",
    "size = comm.Get_size()\n",
    "\n",
    "##### 행렬 및 벡터 불러오기\n",
    "##### 크기 n은 broadcast\n",
    "if rank == 0 :\n",
    "    A = np.load(\"examples/A.npy\")\n",
    "    v = np.load(\"examples/v.npy\")\n",
    "    n = v.size\n",
    "    n = comm.bcast(n, root = 0)\n",
    "else :\n",
    "    A = None\n",
    "    n = 0\n",
    "    n = comm.bcast(n, root = 0)\n",
    "    v = np.empty(n, dtype = np.float64)\n",
    "\n",
    "##### n_local 크기 정하기 \n",
    "n_local = int(n / size)\n",
    "\n",
    "##### n_local 만큰 부분배열 선언\n",
    "A_local = np.empty((n_local, n), dtype = np.float64)\n",
    "\n",
    "##### 행렬의 행 분할\n",
    "comm.Scatter(A, A_local, root = 0) #FIX ME\n",
    "\n",
    "##### 벡터 v는 broadcast\n",
    "comm.Bcast(v, root = 0)\n",
    "\n",
    "##### 분할된 행렬과의 연산\n",
    "b = np.matmul(A_local, v) #FIX ME\n",
    "\n",
    "print(b, rank)"
   ]
  },
  {
   "cell_type": "code",
   "execution_count": null,
   "metadata": {},
   "outputs": [],
   "source": [
    "! mpiexec -np 2 python examples/Av.py"
   ]
  },
  {
   "cell_type": "markdown",
   "metadata": {},
   "source": [
    "3. 행렬의 행 비등분할\n",
    "\n",
    "    <img src = \"images/image06.png\">"
   ]
  },
  {
   "cell_type": "code",
   "execution_count": null,
   "metadata": {},
   "outputs": [],
   "source": [
    "%%writefile examples/Avar.py\n",
    "\n",
    "# Matrix A의 Row decomposition\n",
    "\n",
    "import numpy as np\n",
    "from mpi4py import MPI\n",
    "from tools import para_range\n",
    "\n",
    "comm = MPI.COMM_WORLD\n",
    "\n",
    "rank = comm.Get_rank()\n",
    "size = comm.Get_size()\n",
    "\n",
    "##### 행렬 및 벡터 불러오기\n",
    "##### 크기 n은 broadcast\n",
    "if rank == 0 :\n",
    "    A = np.load(\"examples/A.npy\")\n",
    "    v = np.load(\"examples/v.npy\")\n",
    "    n = v.size\n",
    "    n = comm.bcast(n, root = 0)\n",
    "\n",
    "else :\n",
    "    A = None\n",
    "    n = 0\n",
    "    n = comm.bcast(n, root = 0)\n",
    "    v = np.empty(n, dtype = np.float64)\n",
    "\n",
    "##### 프로세스별 범위 할당\n",
    "ista, iend = para_range(n, size, rank)\n",
    "\n",
    "##### 프로세스별 행수 설정\n",
    "n_local = (iend - ista + 1)\n",
    "\n",
    "##### 분할된 행렬 선언\n",
    "A_local = np.empty((n_local, n), dtype = np.float64)\n",
    "\n",
    "##### Scatterv를 위해 n_local를 이용한 리스트 생성. 이 때 부분행렬 행수가 아닌 전체 크기를 계산 \n",
    "n_local_chunks = comm.gather(n_local * n, root = 0) #FIX ME\n",
    "\n",
    "##### 행렬의 행 분할\n",
    "comm.Scatterv((A, n_local_chunks), A_local, root = 0) #FIX ME\n",
    "\n",
    "comm.Bcast(v, root = 0)\n",
    "\n",
    "b = np.matmul(A_local,v)\n",
    "\n",
    "print(b, rank)"
   ]
  },
  {
   "cell_type": "code",
   "execution_count": null,
   "metadata": {},
   "outputs": [],
   "source": [
    "! mpiexec -np 3 python examples/Avar.py"
   ]
  },
  {
   "cell_type": "markdown",
   "metadata": {},
   "source": [
    "4. 행렬/벡터의 행 비등분할\n",
    "\n",
    "    <img src = \"images/image07_1.png\">"
   ]
  },
  {
   "cell_type": "markdown",
   "metadata": {},
   "source": [
    "- $w_0$계산을 위해 각 프로세스가 소유한 $v$들이 필요 \n",
    "  \n",
    "  <img src = \"images/image07_2.png\">"
   ]
  },
  {
   "cell_type": "markdown",
   "metadata": {},
   "source": [
    "- 각 랭크가 가진 분할된 벡터를 다른 모든 랭크로 보내서 행렬-벡터 곱을 수행해야함\n",
    "\n",
    "    <img src = \"images/image07_4.png\">\n",
    "\n",
    "- 단점 \n",
    "  - 주고 받는 랭크 번호와 통신 대상이 매번 달라지게 됨\n",
    "  - 프로세스수가 많을 경우 통신 거리가 멀어지며, 통신성능 저하"
   ]
  },
  {
   "cell_type": "markdown",
   "metadata": {},
   "source": [
    "- 최종 형태\n",
    "  - 순환 형태로 통신을 구현\n",
    "  - 매번 곱하는 행렬의 열범위를 정확하게 설정해야 함\n",
    "\n",
    "    <img src = \"images/image07_3.png\">"
   ]
  },
  {
   "cell_type": "code",
   "execution_count": null,
   "metadata": {},
   "outputs": [],
   "source": [
    "%%writefile examples/Av_var.py\n",
    "\n",
    "# Matrix A의 Row decomposition\n",
    "\n",
    "from tools import para_range\n",
    "import numpy as np\n",
    "from mpi4py import MPI\n",
    "\n",
    "comm = MPI.COMM_WORLD\n",
    "\n",
    "rank = comm.Get_rank()\n",
    "size = comm.Get_size()\n",
    "\n",
    "##### 행렬 및 벡터 불러오기\n",
    "##### 크기 n은 broadcast\n",
    "if rank == 0 :\n",
    "    A = np.load(\"examples/A.npy\")\n",
    "    v = np.load(\"examples/v.npy\")\n",
    "    n = v.size\n",
    "\n",
    "else :\n",
    "    A = None\n",
    "    v = None\n",
    "    n = 0\n",
    "\n",
    "n = comm.bcast(n, root = 0)\n",
    "\n",
    "##### 프로세스별 범위 할당\n",
    "ista, iend = para_range(n, size, rank)\n",
    "\n",
    "##### 프로세스별 행수 설정\n",
    "n_local = (iend - ista + 1)\n",
    "\n",
    "##### 분할된 행렬 선언\n",
    "A_local = np.empty((n_local, n), dtype = np.float64)\n",
    "v_local = np.empty(n_local, dtype = np.float64)\n",
    "\n",
    "##### Scatterv를 위해 n_local를 이용한 리스트 생성. 이 때 부분행렬 행수가 아닌 전체 크기를 계산 \n",
    "##### 분할된 벡터의 크기는 모든 프로세스가 알고 있어야 하므로 allgather를 이용\n",
    "n_local_chunks = comm.gather(n_local * n, root = 0) #FIX ME\n",
    "n_local_cnts = comm.allgather(n_local) #FIX ME\n",
    "\n",
    "##### 행렬과 벡터 분할\n",
    "comm.Scatterv([A, n_local_chunks], A_local, root = 0) #FIX ME\n",
    "comm.Scatterv([v, n_local_cnts], v_local, root = 0) #FIX ME\n",
    "\n",
    "##### 분할된 벡터 곱 범위 지정\n",
    "col_idx_sta = []\n",
    "col_idx_end = []\n",
    "\n",
    "##### i번째 랭크가 곱해질 열 위치의 시작점과 끝점을 리스트 형태로 저장. 모든 랭크들이 계산\n",
    "for i in range(size) :\n",
    "    col_idx_sta.append(sum(n_local_cnts[:i]))\n",
    "    col_idx_end.append(sum(n_local_cnts[:i])+n_local_cnts[i])\n",
    "\n",
    "##### Local MV (최초 자신의 벡터부분)\n",
    "b = np.matmul(A_local[:,col_idx_sta[rank]:col_idx_end[rank]], v_local)\n",
    "\n",
    "##### 송수신 프로세스 지정\n",
    "inext = rank + 1 if rank < size - 1 else 0\n",
    "iprev = rank - 1 if rank > 0 else size - 1\n",
    "\n",
    "##### (전체 프로세스 크기 -1) 번만큼 통신을 수행하고 부분행렬-부분벡터 곱을 수행\n",
    "for i in range(size - 1) :\n",
    "##### 몇 번째 이전 랭크로부터 받았는지를 iloc을 이용하여 확인\n",
    "    iloc = iprev - i if iprev >= i else iprev - i + size\n",
    "    v_recv = np.empty(n_local_cnts[iloc], dtype = np.float64)\n",
    "##### 다음 랭크로 부분 벡터를 전달하며, 이전 랭크로부터 부분 벡터를 받음\n",
    "    comm.Sendrecv(v_local, inext, 1, v_recv, iprev, 1) #FIX ME\n",
    "##### 받은 벡터는 복사하여, 행렬-벡터 곱에 사용하는 한편, 다음 랭크로 전달할 수 있게 함\n",
    "    v_local = np.copy(v_recv)\n",
    "    b += np.matmul(A_local[:,col_idx_sta[iloc]:col_idx_end[iloc]], v_local)\n",
    "\n",
    "print(b, rank)"
   ]
  },
  {
   "cell_type": "code",
   "execution_count": null,
   "metadata": {},
   "outputs": [],
   "source": [
    "! mpiexec -np 3 python examples/Av_var.py"
   ]
  },
  {
   "cell_type": "code",
   "execution_count": null,
   "metadata": {},
   "outputs": [],
   "source": []
  }
 ],
 "metadata": {
  "kernelspec": {
   "display_name": "ml",
   "language": "python",
   "name": "python3"
  },
  "language_info": {
   "codemirror_mode": {
    "name": "ipython",
    "version": 3
   },
   "file_extension": ".py",
   "mimetype": "text/x-python",
   "name": "python",
   "nbconvert_exporter": "python",
   "pygments_lexer": "ipython3",
   "version": "3.11.9"
  }
 },
 "nbformat": 4,
 "nbformat_minor": 4
}
