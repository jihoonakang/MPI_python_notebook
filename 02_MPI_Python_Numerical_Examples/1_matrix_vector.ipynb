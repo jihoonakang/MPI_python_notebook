{
 "cells": [
  {
   "cell_type": "markdown",
   "metadata": {
    "slideshow": {
     "slide_type": "slide"
    }
   },
   "source": [
    "한국전산유체공학회 제 14차 CFD 단기강좌 (2024.05.29.-2024.05.30.)\n",
    "\n",
    "파이선 병렬프로그래밍: 수치 해석 예제 실습\n",
    "===================================================\n",
    "\n",
    "\n",
    "### 한국과학기술정보연구원 강지훈\n",
    "\n",
    "***\n",
    "\n",
    "### 필요 패키지\n",
    "\n",
    "  - mpi4py\n",
    "  - numpy\n",
    "  - random\n",
    "  - scikit-learn\n",
    "  - matplotlib\n",
    "\n",
    "***\n"
   ]
  },
  {
   "cell_type": "markdown",
   "metadata": {
    "slideshow": {
     "slide_type": "slide"
    }
   },
   "source": [
    "# 1. 벡터와 행렬 연산"
   ]
  },
  {
   "cell_type": "markdown",
   "metadata": {
    "slideshow": {
     "slide_type": "slide"
    }
   },
   "source": [
    "## 1.1. 행렬/벡터 만들기"
   ]
  },
  {
   "cell_type": "code",
   "execution_count": 84,
   "metadata": {
    "slideshow": {
     "slide_type": "slide"
    }
   },
   "outputs": [],
   "source": [
    "import numpy as np\n",
    "\n",
    "np.set_printoptions(linewidth=np.inf)\n",
    "\n",
    "n = 10\n",
    "\n",
    "A = np.random.rand(n, n)\n",
    "B = np.random.rand(n, n)\n",
    "v = np.random.rand(n)\n",
    "w = np.random.rand(n)\n",
    "\n",
    "np.save(\"A\", A)\n",
    "np.save(\"B\", B)\n",
    "np.save(\"v\", v)\n",
    "np.save(\"w\", w)\n",
    "\n"
   ]
  },
  {
   "cell_type": "markdown",
   "metadata": {
    "slideshow": {
     "slide_type": "slide"
    }
   },
   "source": [
    "## 1.2. 벡터 내적"
   ]
  },
  {
   "cell_type": "markdown",
   "metadata": {
    "slideshow": {
     "slide_type": "slide"
    }
   },
   "source": [
    "1. 순차코드\n",
    "   \n",
    "   <img src = \"images/image01.png\">"
   ]
  },
  {
   "cell_type": "markdown",
   "metadata": {},
   "source": [
    "2. 병렬코드 - 등분할\n",
    "\n",
    "  <img src = \"images/image02.png\">"
   ]
  },
  {
   "cell_type": "code",
   "execution_count": 85,
   "metadata": {},
   "outputs": [
    {
     "name": "stdout",
     "output_type": "stream",
     "text": [
      "Writing v.py\n"
     ]
    }
   ],
   "source": [
    "%%writefile v.py\n",
    "import numpy as np\n",
    "from mpi4py import MPI\n",
    "\n",
    "np.set_printoptions(linewidth=np.inf,precision=3)\n",
    "\n",
    "comm = MPI.COMM_WORLD\n",
    "size = comm.Get_size()\n",
    "rank = comm.Get_rank()\n",
    "\n",
    "if rank == 0:\n",
    "    v = np.load(\"v.npy\")\n",
    "    w = np.load(\"w.npy\")\n",
    "    n = v.size\n",
    "else :\n",
    "    v = None\n",
    "    w = None\n",
    "    n = 0\n",
    "\n",
    "n = comm.bcast(n, root = 0)\n",
    "\n",
    "\n",
    "##### n_row 크기 정하기 \n",
    "n_row = int(n / size)# FIX ME\n",
    "\n",
    "v_row = np.empty(n_row, dtype = np.float64)\n",
    "w_row = np.empty(n_row, dtype = np.float64)\n",
    "\n",
    "##### Scatter 함수 호출\n",
    "comm.Scatter(v, v_row, root = 0) # FIX ME\n",
    "comm.Scatter(w, w_row, root = 0) # FIX ME\n",
    "\n",
    "##### 프로세스별 Local sum \n",
    "s = np.dot(v_row,w_row) # FIX ME\n",
    "\n",
    "##### reduce를 이용한 Global sum\n",
    "s_all = comm.allreduce(s, MPI.SUM) # FIX ME\n",
    "\n",
    "#if rank == 1:\n",
    "print(rank, s_all)\n"
   ]
  },
  {
   "cell_type": "code",
   "execution_count": 86,
   "metadata": {},
   "outputs": [
    {
     "name": "stdout",
     "output_type": "stream",
     "text": [
      "1 2.752616003351552\n",
      "0 2.752616003351552\n"
     ]
    }
   ],
   "source": [
    "! mpirun -np 2 python v.py"
   ]
  },
  {
   "cell_type": "markdown",
   "metadata": {},
   "source": [
    "3. 병렬코드 - 비등분할\n",
    "\n",
    "    <img src = \"images/image03.png\">"
   ]
  },
  {
   "cell_type": "code",
   "execution_count": 87,
   "metadata": {},
   "outputs": [
    {
     "name": "stdout",
     "output_type": "stream",
     "text": [
      "Writing v_var.py\n"
     ]
    }
   ],
   "source": [
    "%%writefile v_var.py\n",
    "import numpy as np\n",
    "from mpi4py import MPI\n",
    "\n",
    "def para_range(n, size, rank) :\n",
    "    iwork = divmod(n, size) \n",
    "    ista = rank * iwork[0] + min(rank, iwork[1])\n",
    "    iend = ista + iwork[0] - 1\n",
    "    if iwork[1] > rank :\n",
    "        iend = iend + 1\n",
    "    return ista, iend\n",
    "\n",
    "comm = MPI.COMM_WORLD\n",
    "size = comm.Get_size()\n",
    "rank = comm.Get_rank()\n",
    "\n",
    "if rank == 0:\n",
    "    v = np.load(\"v.npy\")\n",
    "    w = np.load(\"w.npy\")\n",
    "    n = v.size\n",
    "else :\n",
    "    v = None\n",
    "    w = None\n",
    "    n = 0\n",
    "\n",
    "n = comm.bcast(n, root = 0)\n",
    "\n",
    "##### 프로세스별 범위 할당\n",
    "ista, iend = para_range(n, size, rank) # FIX ME\n",
    "n_row =  (iend - ista + 1) # FIX ME\n",
    "\n",
    "n_rows = comm.gather(n_row, root = 0)\n",
    "\n",
    "v_row = np.empty(n_row, dtype = np.float64)\n",
    "w_row = np.empty(n_row, dtype = np.float64)\n",
    "\n",
    "##### Scatter\n",
    "comm.Scatterv((v, n_rows), v_row, root = 0) #FIX ME\n",
    "comm.Scatterv((w, n_rows), w_row, root = 0) #FIX ME\n",
    "\n",
    "s = np.dot(v_row,w_row)\n",
    "\n",
    "##### reduce를 이용한 Global sum\n",
    "s_all = comm.reduce(s, MPI.SUM, root = 0) #FIX ME\n",
    "\n",
    "if rank == 0:\n",
    "    print(n_rows)\n",
    "    print(s_all)\n"
   ]
  },
  {
   "cell_type": "code",
   "execution_count": 88,
   "metadata": {},
   "outputs": [
    {
     "name": "stdout",
     "output_type": "stream",
     "text": [
      "[4, 3, 3]\n",
      "2.752616003351552\n"
     ]
    }
   ],
   "source": [
    "! mpirun -np 3 python v_var.py"
   ]
  },
  {
   "cell_type": "markdown",
   "metadata": {},
   "source": [
    "4. para_range 저장"
   ]
  },
  {
   "cell_type": "code",
   "execution_count": 89,
   "metadata": {},
   "outputs": [
    {
     "name": "stdout",
     "output_type": "stream",
     "text": [
      "Writing tools.py\n"
     ]
    }
   ],
   "source": [
    "%%writefile tools.py\n",
    "\n",
    "def para_range(n, size, rank) :\n",
    "    iwork = divmod(n, size) \n",
    "    ista = rank * iwork[0] + min(rank, iwork[1])\n",
    "    iend = ista + iwork[0] - 1\n",
    "    if iwork[1] > rank :\n",
    "        iend = iend + 1\n",
    "    return ista, iend\n"
   ]
  },
  {
   "cell_type": "markdown",
   "metadata": {},
   "source": [
    "## 1.3. 행렬-벡터곱"
   ]
  },
  {
   "cell_type": "markdown",
   "metadata": {},
   "source": [
    "1. 순차코드\n",
    "   \n",
    "    <img src = \"images/image04.png\">"
   ]
  },
  {
   "cell_type": "code",
   "execution_count": 90,
   "metadata": {},
   "outputs": [
    {
     "name": "stdout",
     "output_type": "stream",
     "text": [
      "[3.163 2.114 2.295 2.789 2.391 3.18  2.149 1.994 2.602 2.257]\n"
     ]
    }
   ],
   "source": [
    "A = np.load(\"A.npy\")\n",
    "v = np.load(\"v.npy\")\n",
    "\n",
    "b = np.matmul(A,v)\n",
    "print (b)\n"
   ]
  },
  {
   "cell_type": "markdown",
   "metadata": {},
   "source": [
    "2. 행렬의 행 등분할\n",
    "\n",
    "    <img src = \"images/image05.png\">"
   ]
  },
  {
   "cell_type": "code",
   "execution_count": 91,
   "metadata": {},
   "outputs": [
    {
     "name": "stdout",
     "output_type": "stream",
     "text": [
      "Writing Av.py\n"
     ]
    }
   ],
   "source": [
    "%%writefile Av.py\n",
    "\n",
    "import numpy as np\n",
    "from mpi4py import MPI\n",
    "\n",
    "comm = MPI.COMM_WORLD\n",
    "\n",
    "rank = comm.Get_rank()\n",
    "size = comm.Get_size()\n",
    "\n",
    "if rank == 0 :\n",
    "    A = np.load(\"A.npy\")\n",
    "    v = np.load(\"v.npy\")\n",
    "    n = v.size\n",
    "    n = comm.bcast(n, root = 0)\n",
    "else :\n",
    "    A = None\n",
    "    n = 0\n",
    "    n = comm.bcast(n, root = 0)\n",
    "    v = np.empty(n, dtype = np.float64)\n",
    "\n",
    "n_row = int(n / size)\n",
    "\n",
    "A_row = np.empty((n_row, n), dtype = np.float64)\n",
    "\n",
    "##### 행렬의 행 분할\n",
    "comm.Scatter(A, A_row, root = 0) #FIX ME\n",
    "\n",
    "comm.Bcast(v, root = 0)\n",
    "\n",
    "##### 분할된 행렬과의 연산\n",
    "b = np.matmul(A_row,v) #FIX ME\n",
    "\n",
    "print(b, rank)"
   ]
  },
  {
   "cell_type": "code",
   "execution_count": 92,
   "metadata": {},
   "outputs": [
    {
     "name": "stdout",
     "output_type": "stream",
     "text": [
      "[3.16303659 2.11393077 2.29522827 2.78901388 2.39100735] 0\n",
      "[3.18024415 2.14935869 1.99365074 2.60156784 2.2574437 ] 1\n"
     ]
    }
   ],
   "source": [
    "! mpirun -np 2 python Av.py"
   ]
  },
  {
   "cell_type": "markdown",
   "metadata": {},
   "source": [
    "3. 행렬의 행 비등분할\n",
    "\n",
    "    <img src = \"images/image06.png\">"
   ]
  },
  {
   "cell_type": "code",
   "execution_count": 93,
   "metadata": {},
   "outputs": [
    {
     "name": "stdout",
     "output_type": "stream",
     "text": [
      "Writing Avar.py\n"
     ]
    }
   ],
   "source": [
    "%%writefile Avar.py\n",
    "\n",
    "# Matrix A의 Row decomposition\n",
    "\n",
    "import numpy as np\n",
    "from mpi4py import MPI\n",
    "from tools import para_range\n",
    "\n",
    "comm = MPI.COMM_WORLD\n",
    "\n",
    "rank = comm.Get_rank()\n",
    "size = comm.Get_size()\n",
    "\n",
    "if rank == 0 :\n",
    "    A = np.load(\"A.npy\")\n",
    "    v = np.load(\"v.npy\")\n",
    "    n = v.size\n",
    "    n = comm.bcast(n, root = 0)\n",
    "\n",
    "else :\n",
    "    A = None\n",
    "    n = 0\n",
    "    n = comm.bcast(n, root = 0)\n",
    "    v = np.empty(n, dtype = np.float64)\n",
    "\n",
    "ista, iend = para_range(n, size, rank)\n",
    "\n",
    "n_row = (iend - ista + 1)\n",
    "\n",
    "A_row = np.empty((n_row, n), dtype = np.float64)\n",
    "\n",
    "##### 행렬의 행 분할 및 각 프로세스별 크기 지정\n",
    "n_rows = comm.gather(n_row * n, root = 0) #FIX ME\n",
    "\n",
    "comm.Scatterv((A, n_rows), A_row, root = 0) #FIX ME\n",
    "comm.Bcast(v, root = 0)\n",
    "\n",
    "b = np.matmul(A_row,v)\n",
    "\n",
    "print(b, rank)"
   ]
  },
  {
   "cell_type": "code",
   "execution_count": 94,
   "metadata": {},
   "outputs": [
    {
     "name": "stdout",
     "output_type": "stream",
     "text": [
      "[2.39100735 3.18024415 2.14935869] 1\n",
      "[3.16303659 2.11393077 2.29522827 2.78901388] 0\n",
      "[1.99365074 2.60156784 2.2574437 ] 2\n"
     ]
    }
   ],
   "source": [
    "! mpirun -np 3 python Avar.py"
   ]
  },
  {
   "cell_type": "markdown",
   "metadata": {},
   "source": [
    "4. 행렬/벡터의 행 비등분할\n",
    "\n",
    "    <img src = \"images/image07.png\">"
   ]
  },
  {
   "cell_type": "code",
   "execution_count": 95,
   "metadata": {},
   "outputs": [
    {
     "name": "stdout",
     "output_type": "stream",
     "text": [
      "Writing Av_var.py\n"
     ]
    }
   ],
   "source": [
    "%%writefile Av_var.py\n",
    "\n",
    "# Matrix A의 Row decomposition\n",
    "\n",
    "from tools import para_range\n",
    "import numpy as np\n",
    "from mpi4py import MPI\n",
    "\n",
    "comm = MPI.COMM_WORLD\n",
    "\n",
    "rank = comm.Get_rank()\n",
    "size = comm.Get_size()\n",
    "\n",
    "if rank == 0 :\n",
    "    A = np.load(\"A.npy\")\n",
    "    v = np.load(\"v.npy\")\n",
    "    n = v.size\n",
    "    n = comm.bcast(n, root = 0)\n",
    "\n",
    "else :\n",
    "    A = None\n",
    "    v = None\n",
    "    n = 0\n",
    "    n = comm.bcast(n, root = 0)\n",
    "\n",
    "ista, iend = para_range(n, size, rank)\n",
    "\n",
    "n_row = (iend - ista + 1)\n",
    "\n",
    "A_row = np.empty((n_row, n), dtype = np.float64)\n",
    "v_row = np.empty(n_row, dtype = np.float64)\n",
    "\n",
    "##### 행렬의 행 분할 및 각 프로세스별 크기 지정\n",
    "n_chunks = comm.gather(n_row * n, root = 0) #FIX ME\n",
    "n_rows = comm.allgather(n_row) #FIX ME\n",
    "\n",
    "comm.Scatterv([A, n_chunks], A_row, root = 0) #FIX ME\n",
    "comm.Scatterv([v, n_rows], v_row, root = 0) #FIX ME\n",
    "\n",
    "##### 분할된 벡터 곱 범위 지정\n",
    "vsta_list = []\n",
    "vend_list = []\n",
    "\n",
    "for i in range(size) :\n",
    "    vsta_list.append(sum(n_rows[:i])) #FIX ME\n",
    "    vend_list.append(sum(n_rows[:i])+n_rows[i]) #FIX ME\n",
    "\n",
    "##### Local MV (최초 자신의 벡터부분)\n",
    "b = np.matmul(A_row[:,vsta_list[rank]:vend_list[rank]], v_row) #FIX ME\n",
    "\n",
    "##### 송수신 프로세스 지정\n",
    "inext = rank + 1 if rank < size - 1 else 0 #FIX ME\n",
    "iprev = rank - 1 if rank > 0 else size - 1 #FIX ME\n",
    "\n",
    "for i in range(size - 1) :\n",
    "    iloc = iprev - i if iprev >= i else iprev - i + size\n",
    "    v_recv = np.empty(n_rows[iloc], dtype = np.float64)\n",
    "    ##### 통신\n",
    "    comm.Sendrecv(v_row, inext, 1, v_recv, iprev, 1) #FIX ME\n",
    "    v_row = np.copy(v_recv)\n",
    "    b += np.matmul(A_row[:,vsta_list[iloc]:vend_list[iloc]], v_row)\n",
    "\n",
    "print(b, rank)"
   ]
  },
  {
   "cell_type": "code",
   "execution_count": 96,
   "metadata": {},
   "outputs": [
    {
     "name": "stdout",
     "output_type": "stream",
     "text": [
      "[2.39100735 3.18024415 2.14935869] 1\n",
      "[1.99365074 2.60156784 2.2574437 ] 2\n",
      "[3.16303659 2.11393077 2.29522827 2.78901388] 0\n"
     ]
    }
   ],
   "source": [
    "! mpirun -np 3 python Av_var.py"
   ]
  },
  {
   "cell_type": "markdown",
   "metadata": {},
   "source": [
    "## 3. 행렬-행렬 곱"
   ]
  },
  {
   "cell_type": "markdown",
   "metadata": {},
   "source": [
    "1. 순차코드\n",
    "\n",
    "    <img src = \"images/image08.png\">"
   ]
  },
  {
   "cell_type": "code",
   "execution_count": 97,
   "metadata": {},
   "outputs": [
    {
     "name": "stdout",
     "output_type": "stream",
     "text": [
      "[[4.606 2.986 2.47  3.747 3.817 3.884 3.262 3.314 2.911 3.112]\n",
      " [2.906 1.931 1.928 2.505 2.193 2.146 2.294 2.449 2.152 1.8  ]\n",
      " [2.621 2.255 1.576 2.159 2.662 2.03  2.188 1.734 2.15  1.372]\n",
      " [3.758 2.632 2.56  3.372 2.765 2.783 3.183 3.1   2.906 2.747]\n",
      " [2.715 2.4   1.902 2.623 2.501 2.035 2.772 2.462 2.119 1.819]\n",
      " [3.714 3.2   2.32  3.101 3.399 3.148 3.44  2.985 2.812 2.863]\n",
      " [2.82  1.923 1.559 1.984 2.331 2.551 2.012 1.937 2.102 2.155]\n",
      " [3.037 1.728 1.935 2.514 2.065 2.22  2.155 2.316 2.431 2.155]\n",
      " [3.42  2.499 2.143 2.849 2.727 2.739 2.8   2.723 2.766 2.638]\n",
      " [3.076 2.95  1.674 2.4   2.972 2.097 2.506 2.238 2.422 1.881]]\n"
     ]
    }
   ],
   "source": [
    "A = np.load(\"A.npy\")\n",
    "B = np.load(\"B.npy\")\n",
    "\n",
    "C = np.matmul(A, B)\n",
    "print (C)\n"
   ]
  },
  {
   "cell_type": "markdown",
   "metadata": {},
   "source": [
    "2. 행렬A의 행분할\n",
    "\n",
    "    <img src = \"images/image09.png\">"
   ]
  },
  {
   "cell_type": "code",
   "execution_count": 81,
   "metadata": {},
   "outputs": [
    {
     "name": "stdout",
     "output_type": "stream",
     "text": [
      "Overwriting AB.py\n"
     ]
    }
   ],
   "source": [
    "%%writefile AB.py\n",
    "\n",
    "import numpy as np\n",
    "from mpi4py import MPI\n",
    "\n",
    "comm = MPI.COMM_WORLD\n",
    "\n",
    "rank = comm.Get_rank()\n",
    "size = comm.Get_size()\n",
    "\n",
    "if rank == 0 :\n",
    "    A = np.load(\"A.npy\")\n",
    "    B = np.load(\"B.npy\")\n",
    "    n = A[0].size\n",
    "    n = comm.bcast(n, root = 0)\n",
    "\n",
    "else :\n",
    "    n = 0\n",
    "    n = comm.bcast(n, root = 0)\n",
    "    A = None\n",
    "    B = np.empty((n, n), dtype = np.float64)\n",
    "\n",
    "n_row = int(n / size)\n",
    "\n",
    "A_row = np.empty((n_row, n), dtype = np.float64)\n",
    "\n",
    "##### 행렬 A의 분할\n",
    "comm.Scatter(A, A_row, root = 0) #FIX ME\n",
    "comm.Bcast(B, root = 0)\n",
    "\n",
    "C = np.matmul(A_row,B)\n",
    "\n",
    "print(C, rank)"
   ]
  },
  {
   "cell_type": "code",
   "execution_count": 82,
   "metadata": {},
   "outputs": [
    {
     "name": "stdout",
     "output_type": "stream",
     "text": [
      "[[2.69916159 2.47204502 3.27975552 2.56940371 3.19767608 1.70176397\n",
      "  2.61989855 1.59647467 1.97800051 1.74942573]\n",
      " [2.09867137 2.84023611 3.39471367 3.1088171  3.07289424 2.40916921\n",
      "  2.5614235  1.50640979 2.64935056 2.24321662]\n",
      " [2.08583177 2.63874904 3.05078496 2.76644929 3.13745238 1.75830709\n",
      "  2.50632991 1.4356154  2.4349085  1.75615955]\n",
      " [2.25681734 1.99273886 2.96551011 2.2719347  2.68383425 1.60809973\n",
      "  2.26971785 1.31398728 1.82431383 1.33905337]\n",
      " [1.70690039 1.42280778 1.58714457 1.585664   1.38737796 1.30630367\n",
      "  1.39203559 0.82911637 1.56560635 0.8729322 ]] 1\n",
      "[[1.76896579 1.95673003 2.91428565 2.40766831 2.79088505 1.46788058\n",
      "  2.07759027 1.51737634 2.08489361 1.29823131]\n",
      " [1.70970921 2.04227922 2.44610518 2.95880146 2.4742027  2.01586441\n",
      "  1.65587624 1.46345338 2.4303007  1.45882619]\n",
      " [2.5496413  3.24900312 3.5233571  3.37971823 3.45834488 2.52138544\n",
      "  2.80416212 1.7998071  3.1094257  2.15363409]\n",
      " [1.68613117 1.70284265 2.23353992 2.12886037 2.11851263 1.35107712\n",
      "  1.68462756 1.3989443  2.03544542 1.25901234]\n",
      " [2.27146838 2.29146293 2.61496595 2.890311   2.37808985 2.30571169\n",
      "  2.01096209 1.23674988 2.22142884 2.0354977 ]] 0\n"
     ]
    }
   ],
   "source": [
    "! mpirun -np 2 python AB.py"
   ]
  },
  {
   "cell_type": "markdown",
   "metadata": {},
   "source": [
    "3. 행렬A의 행분할 (비등분할)\n",
    "\n",
    "    <img src = \"images/image10.png\">"
   ]
  },
  {
   "cell_type": "code",
   "execution_count": 83,
   "metadata": {},
   "outputs": [
    {
     "name": "stdout",
     "output_type": "stream",
     "text": [
      "Overwriting AvarB.py\n"
     ]
    }
   ],
   "source": [
    "%%writefile AvarB.py\n",
    "\n",
    "# Matrix A의 Row decomposition\n",
    "\n",
    "import numpy as np\n",
    "from mpi4py import MPI\n",
    "from tools import para_range\n",
    "\n",
    "comm = MPI.COMM_WORLD\n",
    "\n",
    "rank = comm.Get_rank()\n",
    "size = comm.Get_size()\n",
    "\n",
    "if rank == 0 :\n",
    "    A = np.load(\"A.npy\")\n",
    "    B = np.load(\"B.npy\")\n",
    "    n = A[0].size\n",
    "    n = comm.bcast(n, root = 0)\n",
    "else :\n",
    "    n = 0\n",
    "    n = comm.bcast(n, root = 0)\n",
    "    A = None\n",
    "    B = np.empty((n, n), dtype = np.float64)\n",
    "\n",
    "##### 행렬 A의 분할 범위\n",
    "ista, iend = para_range(n, size, rank) #FIX ME\n",
    "\n",
    "n_row = (iend - ista + 1) #FIX ME\n",
    "\n",
    "A_row = np.empty((n_row, n), dtype = np.float64)\n",
    "n_list = comm.gather(n_row * n, root = 0)\n",
    "\n",
    "##### 행렬 A의 분할\n",
    "comm.Scatterv([A, n_list], A_row, root = 0) #FIX ME\n",
    "comm.Bcast(B, root = 0)\n",
    "\n",
    "C_rows = np.matmul(A_row,B)\n",
    "\n",
    "print(C_rows, rank)"
   ]
  },
  {
   "cell_type": "code",
   "execution_count": 18,
   "metadata": {},
   "outputs": [
    {
     "name": "stdout",
     "output_type": "stream",
     "text": [
      "[[1.44037115 3.31827533 2.92517102 1.86479362 2.53008495 1.53059247\n",
      "  3.34352489 2.98392088 2.37076482 3.23990657]\n",
      " [1.66554917 3.06949679 2.84532682 1.53823713 2.30325062 1.47269568\n",
      "  2.87928876 3.19997697 2.27305808 2.64284028]\n",
      " [1.85688976 2.63312505 2.34679526 1.19698907 2.3514161  1.39533282\n",
      "  2.78151044 2.63373584 2.43650295 3.09731581]] 2\n",
      "[[2.03449936 3.04199541 2.42564749 1.04003725 2.14287679 1.96038686\n",
      "  2.46942191 2.76228889 2.91445576 3.29665576]\n",
      " [1.53074496 2.4508694  2.96165655 1.73039022 1.92381604 1.80916168\n",
      "  2.9346203  2.83875436 2.99581836 3.1974691 ]\n",
      " [1.08387847 1.65746033 1.79090881 0.69602538 0.89073309 0.98233926\n",
      "  1.18544942 1.61258337 0.91170825 1.55920602]] 1\n",
      "[[1.34300868 2.31298613 2.72341006 1.28282659 1.51185798 1.96444364\n",
      "  2.56129285 2.47346425 2.53125842 3.06850103]\n",
      " [1.3827853  2.55306804 2.13075155 1.29772738 1.87852316 1.22732442\n",
      "  2.16746477 2.33213402 2.18971814 1.96498295]\n",
      " [2.02768215 4.27635844 3.69756696 2.32621091 2.94124852 2.40003098\n",
      "  4.11264005 3.79110618 3.1740014  4.35146443]\n",
      " [1.90949839 3.06211327 3.30782022 1.54524554 2.2448952  2.21207509\n",
      "  3.22695159 3.30621914 3.23941983 3.83849371]] 0\n"
     ]
    }
   ],
   "source": [
    "! mpirun -np 3 python AvarB.py"
   ]
  },
  {
   "cell_type": "markdown",
   "metadata": {},
   "source": [
    "4. 행렬A의 행분할, 행렬 B의 열분할\n",
    "\n",
    "    <img src = \"images/image11.png\">"
   ]
  },
  {
   "cell_type": "code",
   "execution_count": 100,
   "metadata": {},
   "outputs": [
    {
     "name": "stdout",
     "output_type": "stream",
     "text": [
      "Overwriting ABvar.py\n"
     ]
    }
   ],
   "source": [
    "%%writefile ABvar.py\n",
    "\n",
    "import numpy as np\n",
    "from mpi4py import MPI\n",
    "from tools import para_range\n",
    "\n",
    "comm = MPI.COMM_WORLD\n",
    "\n",
    "rank = comm.Get_rank()\n",
    "size = comm.Get_size()\n",
    "\n",
    "if rank == 0 :\n",
    "    A = np.load(\"A.npy\")\n",
    "    B = np.load(\"B.npy\")\n",
    "    BT = np.transpose(B).copy()\n",
    "    n = A[0].size\n",
    "    n = comm.bcast(n, root = 0)\n",
    "\n",
    "else :\n",
    "    n = 0\n",
    "    n = comm.bcast(n, root = 0)\n",
    "    A = None\n",
    "    BT = None\n",
    "\n",
    "ista, iend = para_range(n, size, rank)\n",
    "\n",
    "n_row = (iend - ista + 1)\n",
    "\n",
    "A_row = np.empty((n_row, n), dtype = np.float64)\n",
    "BT_row = np.empty((n_row, n), dtype = np.float64)\n",
    "n_rows = comm.allgather(n_row * n)\n",
    "\n",
    "##### 행렬 A, B의 분할\n",
    "comm.Scatterv([A, n_rows], A_row, root = 0) #FIX ME\n",
    "comm.Scatterv([BT, n_rows], BT_row, root = 0) #FIX ME\n",
    "B_col = np.transpose(BT_row)\n",
    "\n",
    "inext = rank + 1 if rank < size - 1 else 0\n",
    "iprev = rank - 1 if rank > 0 else size - 1\n",
    "\n",
    "C_unordered_rows = np.matmul(A_row, B_col)\n",
    "\n",
    "for i in range(size - 1) :\n",
    "    iloc = iprev - i if iprev >= i else iprev - i + size\n",
    "    B_recv = np.empty(n_rows[iloc], dtype = np.float64)\n",
    "\n",
    "    ##### 분할된 행렬 B를 송수신하고 A의 분할된 부분과 곱하여 C에 저장\n",
    "    comm.Sendrecv(B_col, inext, 1, B_recv, iprev, 1) #FIX ME\n",
    "    B_col = np.copy(B_recv)\n",
    "    B_col = np.reshape(B_col, (n, int(n_rows[iloc]/n))) #FIX ME\n",
    "    C_block = np.matmul(A_row, B_col) #FIX ME\n",
    "    C_unordered_rows = np.append(C_unordered_rows, C_block, axis = 1) #FIX ME\n",
    "\n",
    "print(C_unordered_rows, rank)"
   ]
  },
  {
   "cell_type": "code",
   "execution_count": 99,
   "metadata": {},
   "outputs": [
    {
     "name": "stdout",
     "output_type": "stream",
     "text": [
      "[[2.316 2.431 2.155 1.85  2.716 1.819 2.878 2.191 2.16  2.21 ]\n",
      " [2.723 2.766 2.638 2.441 3.442 2.363 3.332 2.363 2.479 2.712]\n",
      " [2.238 2.422 1.881 2.099 3.228 2.37  2.824 2.516 2.665 2.257]] 2\n",
      "[[2.501 2.035 2.772 2.931 2.322 2.309 2.256 2.091 1.802 2.404]\n",
      " [3.399 3.148 3.44  3.403 2.677 3.03  2.954 2.49  2.385 3.387]\n",
      " [2.331 2.551 2.012 2.337 1.644 2.039 2.136 1.717 1.542 2.65 ]] 1\n",
      "[[4.606 2.986 2.47  3.747 3.017 2.759 3.892 3.344 4.666 3.247]\n",
      " [2.906 1.931 1.928 2.505 2.107 1.742 2.535 1.867 2.861 1.961]\n",
      " [2.621 2.255 1.576 2.159 2.299 1.762 2.167 2.136 2.876 2.298]\n",
      " [3.758 2.632 2.56  3.372 2.627 2.536 3.404 2.094 3.578 2.199]] 0\n"
     ]
    }
   ],
   "source": [
    "! mpirun -np 3 python ABvar.py"
   ]
  },
  {
   "cell_type": "markdown",
   "metadata": {},
   "source": [
    "5. 직접 해보기\n",
    "    - 올바른 크기의 C를 미리 선언하고 적절한 위치에 C_block 을 배치\n",
    "    - 3의 C_rows와 같은 결과를 얻음\n"
   ]
  },
  {
   "cell_type": "markdown",
   "metadata": {},
   "source": []
  }
 ],
 "metadata": {
  "kernelspec": {
   "display_name": "Python 3 (ipykernel)",
   "language": "python",
   "name": "python3"
  },
  "language_info": {
   "codemirror_mode": {
    "name": "ipython",
    "version": 3
   },
   "file_extension": ".py",
   "mimetype": "text/x-python",
   "name": "python",
   "nbconvert_exporter": "python",
   "pygments_lexer": "ipython3",
   "version": "3.11.9"
  }
 },
 "nbformat": 4,
 "nbformat_minor": 4
}
