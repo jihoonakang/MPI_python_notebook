{
 "cells": [
  {
   "cell_type": "markdown",
   "metadata": {
    "slideshow": {
     "slide_type": "slide"
    }
   },
   "source": [
    "# 3. 벡터와 행렬 연산 (II)"
   ]
  },
  {
   "cell_type": "markdown",
   "metadata": {},
   "source": [
    "## 3.1. 행렬-행렬 곱"
   ]
  },
  {
   "cell_type": "markdown",
   "metadata": {},
   "source": [
    "1. 순차코드\n",
    "\n",
    "    <img src = \"images/image08.png\">"
   ]
  },
  {
   "cell_type": "code",
   "execution_count": null,
   "metadata": {},
   "outputs": [],
   "source": [
    "import numpy as np\n",
    "\n",
    "A = np.load(\"examples/A.npy\")\n",
    "B = np.load(\"examples/B.npy\")\n",
    "\n",
    "C = np.matmul(A, B)\n",
    "print (C)\n"
   ]
  },
  {
   "cell_type": "markdown",
   "metadata": {},
   "source": [
    "2. 행렬A의 행분할\n",
    "\n",
    "    <img src = \"images/image09.png\">"
   ]
  },
  {
   "cell_type": "code",
   "execution_count": null,
   "metadata": {},
   "outputs": [],
   "source": [
    "%%writefile examples/AB.py\n",
    "\n",
    "import numpy as np\n",
    "from mpi4py import MPI\n",
    "\n",
    "comm = MPI.COMM_WORLD\n",
    "\n",
    "rank = comm.Get_rank()\n",
    "size = comm.Get_size()\n",
    "\n",
    "if rank == 0 :\n",
    "    A = np.load(\"examples/A.npy\")\n",
    "    B = np.load(\"examples/B.npy\")\n",
    "    n = A[0].size\n",
    "    n = comm.bcast(n, root = 0)\n",
    "\n",
    "else :\n",
    "    n = 0\n",
    "    n = comm.bcast(n, root = 0)\n",
    "    A = None\n",
    "    B = np.empty((n, n), dtype = np.float64)\n",
    "\n",
    "n_local = int(n / size)\n",
    "\n",
    "A_local = np.empty((n_local, n), dtype = np.float64)\n",
    "\n",
    "##### 행렬 A의 분할\n",
    "comm.Scatter(A, A_local, root = 0) #FIX ME\n",
    "comm.Bcast(B, root = 0)\n",
    "\n",
    "C = np.matmul(A_local,B)\n",
    "\n",
    "print(C, rank)"
   ]
  },
  {
   "cell_type": "code",
   "execution_count": null,
   "metadata": {},
   "outputs": [],
   "source": [
    "! mpiexec -np 2 python examples/AB.py"
   ]
  },
  {
   "cell_type": "markdown",
   "metadata": {},
   "source": [
    "3. 행렬A의 행분할 (비등분할)\n",
    "\n",
    "    <img src = \"images/image10.png\">"
   ]
  },
  {
   "cell_type": "code",
   "execution_count": null,
   "metadata": {},
   "outputs": [],
   "source": [
    "%%writefile examples/AvarB.py\n",
    "\n",
    "# Matrix A의 Row decomposition\n",
    "\n",
    "import numpy as np\n",
    "from mpi4py import MPI\n",
    "from tools import para_range\n",
    "\n",
    "comm = MPI.COMM_WORLD\n",
    "\n",
    "rank = comm.Get_rank()\n",
    "size = comm.Get_size()\n",
    "\n",
    "##### 행렬 및 벡터 불러오기\n",
    "##### 크기 n은 broadcast\n",
    "if rank == 0 :\n",
    "    A = np.load(\"examples/A.npy\")\n",
    "    B = np.load(\"examples/B.npy\")\n",
    "    n = A[0].size\n",
    "    n = comm.bcast(n, root = 0)\n",
    "else :\n",
    "    n = 0\n",
    "    n = comm.bcast(n, root = 0)\n",
    "    A = None\n",
    "    B = np.empty((n, n), dtype = np.float64)\n",
    "\n",
    "##### 행렬 A의 분할 범위를 설정\n",
    "ista, iend = #FIX ME\n",
    "n_local = #FIX ME\n",
    "\n",
    "##### Scatterv를 위해 n_local를 이용한 리스트 생성. 이 때 부분행렬 행수가 아닌 전체 크기를 계산 \n",
    "A_local = np.empty((n_local, n), dtype = np.float64)\n",
    "n_local_chunks = comm.gather(n_local * n, root = 0)\n",
    "\n",
    "##### 행렬 A의 분할\n",
    "comm.Scatterv( #FIX ME\n",
    "comm.Bcast(B, root = 0)\n",
    "\n",
    "##### 분할된 부분행렬과 행렬B의 곱\n",
    "C_local = np.matmul(A_local,B)\n",
    "\n",
    "print(C_local, rank)"
   ]
  },
  {
   "cell_type": "code",
   "execution_count": null,
   "metadata": {},
   "outputs": [],
   "source": [
    "! mpiexec -np 3 python examples/AvarB.py"
   ]
  },
  {
   "cell_type": "markdown",
   "metadata": {},
   "source": [
    "4. 행렬A의 행분할, 행렬 B의 열분할\n",
    "  - 각 프로세스가 가진 부분행렬만 곱할 경우\n",
    "\n",
    "    <img src = \"images/image11_1.png\">"
   ]
  },
  {
   "cell_type": "markdown",
   "metadata": {},
   "source": [
    "  - 통신을 이용하여 $B_i$에 대한 부분행렬을 수신하여 부분행렬 곱을 실행\n",
    "\n",
    "    <img src = \"images/image11_2.png\">\n"
   ]
  },
  {
   "cell_type": "code",
   "execution_count": null,
   "metadata": {},
   "outputs": [],
   "source": [
    "%%writefile examples/ABvar.py\n",
    "\n",
    "import numpy as np\n",
    "from mpi4py import MPI\n",
    "from tools import para_range\n",
    "\n",
    "comm = MPI.COMM_WORLD\n",
    "\n",
    "rank = comm.Get_rank()\n",
    "size = comm.Get_size()\n",
    "\n",
    "##### 행렬 및 벡터 불러오기\n",
    "##### 크기 n은 broadcast\n",
    "if rank == 0 :\n",
    "    A = np.load(\"examples/A.npy\")\n",
    "    B = np.load(\"examples/B.npy\")\n",
    "    BT = np.transpose(B).copy()\n",
    "    n = A[0].size\n",
    "    n = comm.bcast(n, root = 0)\n",
    "\n",
    "else :\n",
    "    n = 0\n",
    "    n = comm.bcast(n, root = 0)\n",
    "    A = None\n",
    "    BT = None\n",
    "\n",
    "##### 행렬 A와 B의 분할 범위를 설정\n",
    "ista, iend = para_range(n, size, rank)\n",
    "n_local = (iend - ista + 1)\n",
    "\n",
    "##### 부분행렬의 선언. 행렬 B의 부분행렬은 전치행렬을 이용\n",
    "A_local = np.empty((n_local, n), dtype = np.float64)\n",
    "BT_local = np.empty((n_local, n), dtype = np.float64)\n",
    "\n",
    "##### Scatterv를 위해 n_local를 이용한 리스트 생성. 이 때 부분행렬 행수가 아닌 전체 크기를 계산 \n",
    "n_local_chunks = comm.allgather(n_local * n)\n",
    "\n",
    "##### 행렬 A, B의 분할\n",
    "comm.Scatterv( #FIX ME\n",
    "comm.Scatterv( #FIX ME\n",
    "\n",
    "##### 행렬 B의 부분행렬을 전치하여 원래 형태로 만듦\n",
    "B_col = np.transpose(BT_local)\n",
    "\n",
    "##### 다음 및 이전 랭크 설정\n",
    "inext = rank + 1 if rank < size - 1 else 0\n",
    "iprev = rank - 1 if rank > 0 else size - 1\n",
    "\n",
    "##### 계산결과는 정렬되지 않으므로 unordered로 취급\n",
    "C_unordered_local = np.matmul( #FIX ME\n",
    "\n",
    "\n",
    "##### (전체 프로세스 크기 -1) 번만큼 통신을 수행하고 부분행렬-부분벡터 곱을 수행\n",
    "for i in range(size - 1) :\n",
    "##### 몇 번째 이전 랭크로부터 받았는지를 iloc을 이용하여 확인\n",
    "    iloc = iprev - i if iprev >= i else iprev - i + size\n",
    "    B_recv = np.empty(n_local_chunks[iloc], dtype = np.float64)\n",
    "\n",
    "    ##### 분할된 행렬 B를 송수신하고 A의 분할된 부분과 곱하여 C에 저장\n",
    "    comm.Sendrecv( #FIX ME\n",
    "    B_col = np.copy(B_recv)\n",
    "    B_col = np.reshape(B_col, (n, int(n_local_chunks[iloc]/n)))\n",
    "    C_block = np.matmul( #FIX ME\n",
    "##### 현재 정렬되지 않은 순서로 C_unordered_local_chunks에 저장됨    \n",
    "    C_unordered_local = np.append(C_unordered_local, C_block, axis = 1)\n",
    "\n",
    "print(C_unordered_local, rank)"
   ]
  },
  {
   "cell_type": "code",
   "execution_count": null,
   "metadata": {},
   "outputs": [],
   "source": [
    "! mpiexec -np 3 python examples/ABvar.py"
   ]
  },
  {
   "cell_type": "markdown",
   "metadata": {},
   "source": [
    "5. 직접 해보기\n",
    "    - 올바른 크기의 C를 미리 선언하고 적절한 위치에 C_block 을 배치\n",
    "    - 3의 C_rows와 같은 결과를 얻음\n"
   ]
  },
  {
   "cell_type": "markdown",
   "metadata": {},
   "source": []
  }
 ],
 "metadata": {
  "kernelspec": {
   "display_name": "ml",
   "language": "python",
   "name": "python3"
  },
  "language_info": {
   "codemirror_mode": {
    "name": "ipython",
    "version": 3
   },
   "file_extension": ".py",
   "mimetype": "text/x-python",
   "name": "python",
   "nbconvert_exporter": "python",
   "pygments_lexer": "ipython3",
   "version": "3.11.9"
  }
 },
 "nbformat": 4,
 "nbformat_minor": 4
}
