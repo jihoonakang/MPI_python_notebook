{
 "cells": [
  {
   "cell_type": "markdown",
   "metadata": {
    "slideshow": {
     "slide_type": "slide"
    }
   },
   "source": [
    "# 3. 벡터와 행렬 연산 (II)"
   ]
  },
  {
   "cell_type": "markdown",
   "metadata": {},
   "source": [
    "## 3.1. 행렬-행렬 곱"
   ]
  },
  {
   "cell_type": "markdown",
   "metadata": {},
   "source": [
    "1. 순차코드\n",
    "\n",
    "    <img src = \"images/image08.png\">"
   ]
  },
  {
   "cell_type": "code",
   "execution_count": 2,
   "metadata": {},
   "outputs": [
    {
     "name": "stdout",
     "output_type": "stream",
     "text": [
      "[[2.43808921 1.76992881 1.97417806 2.71006386 2.08325036 1.6900913\n",
      "  2.2726759  0.84911753 2.24487038 2.89619951]\n",
      " [3.32436378 2.26264606 2.84394628 3.65224577 2.81632642 2.83825689\n",
      "  2.82821487 1.53278552 2.67656844 4.07527853]\n",
      " [2.52516491 1.63464914 2.40555223 2.65467965 1.77237814 2.67850384\n",
      "  2.31310182 1.51563888 2.0609549  3.06054468]\n",
      " [2.09033953 1.76774597 1.67791452 2.11438343 2.12795604 2.40671103\n",
      "  1.95276353 1.62493618 0.99662127 2.75977504]\n",
      " [1.53354765 1.30140395 1.89016566 2.10327574 1.99955199 2.01952688\n",
      "  1.15680931 1.51912599 1.22258369 2.13703296]\n",
      " [3.72882467 2.41779476 3.16969681 3.68080586 2.81891888 3.64870978\n",
      "  3.12966289 2.03779475 2.55999561 4.32804162]\n",
      " [2.5376105  2.0037945  2.32930118 2.77907609 2.72584889 2.90360689\n",
      "  1.73261574 2.18891316 1.53259861 3.31508807]\n",
      " [1.60960489 1.2524839  1.58606037 1.98764014 1.34049028 1.59212055\n",
      "  1.49071873 0.90336752 1.38118709 2.23947988]\n",
      " [1.79226644 1.576982   2.25868466 2.59114148 2.65784558 2.53265303\n",
      "  1.22004361 2.00448121 1.39171133 2.70871931]\n",
      " [2.51597362 2.15609642 2.40916312 2.89465763 2.40953836 2.29254105\n",
      "  2.20112086 1.70694314 1.93419173 3.24786593]]\n"
     ]
    }
   ],
   "source": [
    "import numpy as np\n",
    "\n",
    "A = np.load(\"examples/A.npy\")\n",
    "B = np.load(\"examples/B.npy\")\n",
    "\n",
    "C = np.matmul(A, B)\n",
    "print (C)\n"
   ]
  },
  {
   "cell_type": "markdown",
   "metadata": {},
   "source": [
    "2. 행렬A의 행분할\n",
    "\n",
    "    <img src = \"images/image09.png\">"
   ]
  },
  {
   "cell_type": "code",
   "execution_count": 3,
   "metadata": {},
   "outputs": [
    {
     "name": "stdout",
     "output_type": "stream",
     "text": [
      "Writing examples/AB.py\n"
     ]
    }
   ],
   "source": [
    "%%writefile examples/AB.py\n",
    "\n",
    "import numpy as np\n",
    "from mpi4py import MPI\n",
    "\n",
    "comm = MPI.COMM_WORLD\n",
    "\n",
    "rank = comm.Get_rank()\n",
    "size = comm.Get_size()\n",
    "\n",
    "if rank == 0 :\n",
    "    A = np.load(\"examples/A.npy\")\n",
    "    B = np.load(\"examples/B.npy\")\n",
    "    n = A[0].size\n",
    "    n = comm.bcast(n, root = 0)\n",
    "\n",
    "else :\n",
    "    n = 0\n",
    "    n = comm.bcast(n, root = 0)\n",
    "    A = None\n",
    "    B = np.empty((n, n), dtype = np.float64)\n",
    "\n",
    "n_row = int(n / size)\n",
    "\n",
    "A_row = np.empty((n_row, n), dtype = np.float64)\n",
    "\n",
    "##### 행렬 A의 분할\n",
    "comm.Scatter(A, A_row, root = 0) #FIX ME\n",
    "comm.Bcast(B, root = 0)\n",
    "\n",
    "C = np.matmul(A_row,B)\n",
    "\n",
    "print(C, rank)"
   ]
  },
  {
   "cell_type": "code",
   "execution_count": 4,
   "metadata": {},
   "outputs": [
    {
     "name": "stdout",
     "output_type": "stream",
     "text": [
      "[[2.43808921 1.76992881 1.97417806 2.71006386 2.08325036 1.6900913\n",
      "  2.2726759  0.84911753 2.24487038 2.89619951]\n",
      " [3.32436378 2.26264606 2.84394628 3.65224577 2.81632642 2.83825689\n",
      "  2.82821487 1.53278552 2.67656844 4.07527853]\n",
      " [2.52516491 1.63464914 2.40555223 2.65467965 1.77237814 2.67850384\n",
      "  2.31310182 1.51563888 2.0609549  3.06054468]\n",
      " [2.09033953 1.76774597 1.67791452 2.11438343 2.12795604 2.40671103\n",
      "  1.95276353 1.62493618 0.99662127 2.75977504]\n",
      " [1.53354765 1.30140395 1.89016566 2.10327574 1.99955199 2.01952688\n",
      "  1.15680931 1.51912599 1.22258369 2.13703296]] 0\n",
      "[[3.72882467 2.41779476 3.16969681 3.68080586 2.81891888 3.64870978\n",
      "  3.12966289 2.03779475 2.55999561 4.32804162]\n",
      " [2.5376105  2.0037945  2.32930118 2.77907609 2.72584889 2.90360689\n",
      "  1.73261574 2.18891316 1.53259861 3.31508807]\n",
      " [1.60960489 1.2524839  1.58606037 1.98764014 1.34049028 1.59212055\n",
      "  1.49071873 0.90336752 1.38118709 2.23947988]\n",
      " [1.79226644 1.576982   2.25868466 2.59114148 2.65784558 2.53265303\n",
      "  1.22004361 2.00448121 1.39171133 2.70871931]\n",
      " [2.51597362 2.15609642 2.40916312 2.89465763 2.40953836 2.29254105\n",
      "  2.20112086 1.70694314 1.93419173 3.24786593]] 1\n"
     ]
    }
   ],
   "source": [
    "! mpiexec -np 2 python examples/AB.py"
   ]
  },
  {
   "cell_type": "markdown",
   "metadata": {},
   "source": [
    "3. 행렬A의 행분할 (비등분할)\n",
    "\n",
    "    <img src = \"images/image10.png\">"
   ]
  },
  {
   "cell_type": "code",
   "execution_count": 5,
   "metadata": {},
   "outputs": [
    {
     "name": "stdout",
     "output_type": "stream",
     "text": [
      "Writing examples/AvarB.py\n"
     ]
    }
   ],
   "source": [
    "%%writefile examples/AvarB.py\n",
    "\n",
    "# Matrix A의 Row decomposition\n",
    "\n",
    "import numpy as np\n",
    "from mpi4py import MPI\n",
    "from tools import para_range\n",
    "\n",
    "comm = MPI.COMM_WORLD\n",
    "\n",
    "rank = comm.Get_rank()\n",
    "size = comm.Get_size()\n",
    "\n",
    "if rank == 0 :\n",
    "    A = np.load(\"examples/A.npy\")\n",
    "    B = np.load(\"examples/B.npy\")\n",
    "    n = A[0].size\n",
    "    n = comm.bcast(n, root = 0)\n",
    "else :\n",
    "    n = 0\n",
    "    n = comm.bcast(n, root = 0)\n",
    "    A = None\n",
    "    B = np.empty((n, n), dtype = np.float64)\n",
    "\n",
    "##### 행렬 A의 분할 범위\n",
    "ista, iend = para_range(n, size, rank) #FIX ME\n",
    "\n",
    "n_row = (iend - ista + 1) #FIX ME\n",
    "\n",
    "A_row = np.empty((n_row, n), dtype = np.float64)\n",
    "n_list = comm.gather(n_row * n, root = 0)\n",
    "\n",
    "##### 행렬 A의 분할\n",
    "comm.Scatterv([A, n_list], A_row, root = 0) #FIX ME\n",
    "comm.Bcast(B, root = 0)\n",
    "\n",
    "C_rows = np.matmul(A_row,B)\n",
    "\n",
    "print(C_rows, rank)"
   ]
  },
  {
   "cell_type": "code",
   "execution_count": 6,
   "metadata": {},
   "outputs": [
    {
     "name": "stdout",
     "output_type": "stream",
     "text": [
      "[[1.53354765 1.30140395 1.89016566 2.10327574 1.99955199 2.01952688\n",
      "  1.15680931 1.51912599 1.22258369 2.13703296]\n",
      " [3.72882467 2.41779476 3.16969681 3.68080586 2.81891888 3.64870978\n",
      "  3.12966289 2.03779475 2.55999561 4.32804162]\n",
      " [2.5376105  2.0037945  2.32930118 2.77907609 2.72584889 2.90360689\n",
      "  1.73261574 2.18891316 1.53259861 3.31508807]] [[1.60960489 1.2524839  1.58606037 1.98764014 1.34049028 1.59212055\n",
      "  1.49071873 0.90336752 1.38118709 2.23947988]\n",
      " [1.79226644 1.576982   2.25868466 2.59114148 2.65784558 2.53265303\n",
      "  1.22004361 2.00448121 1.39171133 2.70871931]\n",
      " [2.51597362 2.15609642 2.40916312 2.89465763 2.40953836 2.29254105\n",
      "  2.20112086 1.70694314 1.93419173 3.24786593]] 2\n",
      "1\n",
      "[[2.43808921 1.76992881 1.97417806 2.71006386 2.08325036 1.6900913\n",
      "  2.2726759  0.84911753 2.24487038 2.89619951]\n",
      " [3.32436378 2.26264606 2.84394628 3.65224577 2.81632642 2.83825689\n",
      "  2.82821487 1.53278552 2.67656844 4.07527853]\n",
      " [2.52516491 1.63464914 2.40555223 2.65467965 1.77237814 2.67850384\n",
      "  2.31310182 1.51563888 2.0609549  3.06054468]\n",
      " [2.09033953 1.76774597 1.67791452 2.11438343 2.12795604 2.40671103\n",
      "  1.95276353 1.62493618 0.99662127 2.75977504]] 0\n"
     ]
    }
   ],
   "source": [
    "! mpiexec -np 3 python examples/AvarB.py"
   ]
  },
  {
   "cell_type": "markdown",
   "metadata": {},
   "source": [
    "4. 행렬A의 행분할, 행렬 B의 열분할\n",
    "  - 각 프로세스가 가진 부분행렬만 곱할 경우\n",
    "\n",
    "    <img src = \"images/image11_1.png\">"
   ]
  },
  {
   "cell_type": "markdown",
   "metadata": {},
   "source": [
    "  - 통신을 이용하여 $B_i$에 대한 부분행렬을 수신하여 부분행렬 곱을 실행\n",
    "\n",
    "    <img src = \"images/image11_2.png\">\n"
   ]
  },
  {
   "cell_type": "code",
   "execution_count": 7,
   "metadata": {},
   "outputs": [
    {
     "name": "stdout",
     "output_type": "stream",
     "text": [
      "Writing examples/ABvar.py\n"
     ]
    }
   ],
   "source": [
    "%%writefile examples/ABvar.py\n",
    "\n",
    "import numpy as np\n",
    "from mpi4py import MPI\n",
    "from tools import para_range\n",
    "\n",
    "comm = MPI.COMM_WORLD\n",
    "\n",
    "rank = comm.Get_rank()\n",
    "size = comm.Get_size()\n",
    "\n",
    "if rank == 0 :\n",
    "    A = np.load(\"examples/A.npy\")\n",
    "    B = np.load(\"examples/B.npy\")\n",
    "    BT = np.transpose(B).copy()\n",
    "    n = A[0].size\n",
    "    n = comm.bcast(n, root = 0)\n",
    "\n",
    "else :\n",
    "    n = 0\n",
    "    n = comm.bcast(n, root = 0)\n",
    "    A = None\n",
    "    BT = None\n",
    "\n",
    "ista, iend = para_range(n, size, rank)\n",
    "\n",
    "n_row = (iend - ista + 1)\n",
    "\n",
    "A_row = np.empty((n_row, n), dtype = np.float64)\n",
    "BT_row = np.empty((n_row, n), dtype = np.float64)\n",
    "n_rows = comm.allgather(n_row * n)\n",
    "\n",
    "##### 행렬 A, B의 분할\n",
    "comm.Scatterv([A, n_rows], A_row, root = 0) #FIX ME\n",
    "comm.Scatterv([BT, n_rows], BT_row, root = 0) #FIX ME\n",
    "B_col = np.transpose(BT_row)\n",
    "\n",
    "inext = rank + 1 if rank < size - 1 else 0\n",
    "iprev = rank - 1 if rank > 0 else size - 1\n",
    "\n",
    "C_unordered_rows = np.matmul(A_row, B_col)\n",
    "\n",
    "for i in range(size - 1) :\n",
    "    iloc = iprev - i if iprev >= i else iprev - i + size\n",
    "    B_recv = np.empty(n_rows[iloc], dtype = np.float64)\n",
    "\n",
    "    ##### 분할된 행렬 B를 송수신하고 A의 분할된 부분과 곱하여 C에 저장\n",
    "    comm.Sendrecv(B_col, inext, 1, B_recv, iprev, 1) #FIX ME\n",
    "    B_col = np.copy(B_recv)\n",
    "    B_col = np.reshape(B_col, (n, int(n_rows[iloc]/n))) #FIX ME\n",
    "    C_block = np.matmul(A_row, B_col) #FIX ME\n",
    "    C_unordered_rows = np.append(C_unordered_rows, C_block, axis = 1) #FIX ME\n",
    "\n",
    "print(C_unordered_rows, rank)"
   ]
  },
  {
   "cell_type": "code",
   "execution_count": 8,
   "metadata": {},
   "outputs": [
    {
     "name": "stdout",
     "output_type": "stream",
     "text": [
      "[[0.90336752 1.38118709 2.23947988 1.35979991 2.13047487 1.51525464\n",
      "  1.28586525 0.92749032 1.55481306 1.63314528]\n",
      " [2.00448121 1.39171133 2.70871931 1.7708386  2.31727939 1.65989538\n",
      "  2.47912148 1.74728039 2.628282   2.34119267]\n",
      " [1.70694314 1.93419173 3.24786593 2.13460666 2.77527543 2.7274958\n",
      "  2.1397937  1.37625043 2.45464219 2.83655652]] 2\n",
      "[[2.43808921 1.76992881 1.97417806 2.71006386 2.49735365 1.65893238\n",
      "  1.7758255  2.05296055 2.85343892 2.52931704]\n",
      " [3.32436378 2.26264606 2.84394628 3.65224577 3.2008964  2.61809047\n",
      "  2.79110772 2.57504371 3.82863666 2.99459153]\n",
      " [2.52516491 1.63464914 2.40555223 2.65467965 2.36573203 1.29833334\n",
      "  2.04687863 2.09761675 2.3512836  3.02689083]\n",
      " [2.09033953 1.76774597 1.67791452 2.11438343 1.9122912  2.09330263\n",
      "  1.67607002 1.85661096 1.96529024 1.98148748]] 0\n",
      "[[1.99955199 2.01952688 1.15680931 1.94381772 1.41273001 2.04580829\n",
      "  1.92631513 1.87876781 1.44841558 2.03937034]\n",
      " [2.81891888 3.64870978 3.12966289 3.1425895  2.36141592 3.33864165\n",
      "  3.70182901 3.06817495 2.53138842 3.06497815]\n",
      " [2.72584889 2.90360689 1.73261574 2.76169603 1.89763241 3.05596359\n",
      "  2.92297312 2.5813557  2.43047677 2.50114795]] 1\n"
     ]
    }
   ],
   "source": [
    "! mpiexec -np 3 python examples/ABvar.py"
   ]
  },
  {
   "cell_type": "markdown",
   "metadata": {},
   "source": [
    "5. 직접 해보기\n",
    "    - 올바른 크기의 C를 미리 선언하고 적절한 위치에 C_block 을 배치\n",
    "    - 3의 C_rows와 같은 결과를 얻음\n"
   ]
  },
  {
   "cell_type": "markdown",
   "metadata": {},
   "source": []
  }
 ],
 "metadata": {
  "kernelspec": {
   "display_name": "ml",
   "language": "python",
   "name": "python3"
  },
  "language_info": {
   "codemirror_mode": {
    "name": "ipython",
    "version": 3
   },
   "file_extension": ".py",
   "mimetype": "text/x-python",
   "name": "python",
   "nbconvert_exporter": "python",
   "pygments_lexer": "ipython3",
   "version": "3.11.9"
  }
 },
 "nbformat": 4,
 "nbformat_minor": 4
}
