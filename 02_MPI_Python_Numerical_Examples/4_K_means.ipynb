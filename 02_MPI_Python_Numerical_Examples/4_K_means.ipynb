{
 "cells": [
  {
   "cell_type": "markdown",
   "metadata": {},
   "source": [
    "## 3. K-means"
   ]
  },
  {
   "cell_type": "markdown",
   "metadata": {},
   "source": [
    "### 3.1. 개요\n",
    "\n",
    "  - K-평균 알고리즘(K-means algorithm)은 주어진 데이터를 k개의 클러스터로 묶는 방법으로 각 클러스터와의 거리 차이 분산을 최소화\n",
    "  - 본 알고리즘은 비지도학습(Unsupervised Learning)의 일종으로, 레이블이 없는 입력 데이터에 레이블을 달아주는 역할을 수행\n",
    "  - K-평균 알고리즘은 공간데이터 분석(물류센터 위치선정), 웹문서 분류 등 다양한 분야 에서 이용\n",
    "  - (위키피디아)\n",
    "\n",
    "  <img src = \"images/image15.png\">"
   ]
  },
  {
   "cell_type": "markdown",
   "metadata": {
    "slideshow": {
     "slide_type": "slide"
    }
   },
   "source": [
    "### 3.2. K-means 알고리즘\n",
    "\n",
    "  - Assignment step 과 update step 으로 구성\n",
    "  - Assignment step 에서는 점(point)으로부터 각 클러스터의 중심점까지의 직선 거리를 계산하고, 그 점에서 가장 가까운 클러스터를\n",
    "찾아 점을 배당\n",
    "  -  Update step 에서는 각 클러스터에 있는 점들의 무게중심 값으로 해당 클러스터의 중심위치를 재설정. \n",
    "  -  클러스터의 중심위치가 변하지 않을 때까지 반복\n",
    "  \n",
    "  <img src = \"images/image16.png\">"
   ]
  },
  {
   "cell_type": "markdown",
   "metadata": {},
   "source": [
    "1. Scipy 함수를 이용하여 데이터 생성"
   ]
  },
  {
   "cell_type": "code",
   "execution_count": 1,
   "metadata": {},
   "outputs": [],
   "source": [
    "import numpy as np\n",
    "import matplotlib.pyplot as plt\n",
    "from sklearn.datasets import make_blobs"
   ]
  },
  {
   "cell_type": "code",
<<<<<<< HEAD:02_MPI_Python_Numerical_Examples/3_K_means.ipynb
   "execution_count": null,
=======
   "execution_count": 2,
>>>>>>> c6eb32d (Update):02_MPI_Python_Numerical_Examples/4_K_means.ipynb
   "metadata": {},
   "outputs": [],
   "source": [
    "X,y = make_blobs(n_samples = 500,n_features = 2,centers = 2,random_state = 23)\n",
    "fig = plt.figure(0)\n",
    "plt.grid(True)\n",
    "plt.scatter(X[:,0], X[:,1])\n",
    "plt.show()"
   ]
  },
  {
   "cell_type": "code",
<<<<<<< HEAD:02_MPI_Python_Numerical_Examples/3_K_means.ipynb
   "execution_count": null,
=======
   "execution_count": 4,
>>>>>>> c6eb32d (Update):02_MPI_Python_Numerical_Examples/4_K_means.ipynb
   "metadata": {},
   "outputs": [],
   "source": [
    "X,y = make_blobs(n_samples = 500,n_features = 2,centers = 10,random_state = 23)\n",
    "\n",
    "np.save(\"examples/X\", X)\n",
    "np.save(\"examples/y\", y)\n",
    "\n",
    "fig = plt.figure(0)\n",
    "plt.grid(True)\n",
    "plt.scatter(X[:,0], X[:,1])\n",
    "plt.show()\n"
   ]
  },
  {
   "cell_type": "markdown",
   "metadata": {},
   "source": [
    "2. 순차코드\n",
    "  - 7개로 생성된 클러스터를 분류\n",
    "  - 초기 무게중심 값은 (-10, 10) 사에에서,랜덤하게 생성"
   ]
  },
  {
   "cell_type": "code",
<<<<<<< HEAD:02_MPI_Python_Numerical_Examples/3_K_means.ipynb
   "execution_count": null,
   "metadata": {},
   "outputs": [],
=======
   "execution_count": 5,
   "metadata": {},
   "outputs": [
    {
     "data": {
      "text/plain": [
       "{0: {'center': array([0.34595768, 8.93925208]), 'points': []},\n",
       " 1: {'center': array([ 5.30919519, -4.35208312]), 'points': []},\n",
       " 2: {'center': array([-5.57909273,  3.7244417 ]), 'points': []},\n",
       " 3: {'center': array([-6.65721594, -2.15115067]), 'points': []},\n",
       " 4: {'center': array([ 2.36104695, -1.7613981 ]), 'points': []},\n",
       " 5: {'center': array([-9.95070238,  7.68064365]), 'points': []},\n",
       " 6: {'center': array([ 7.69895077, -3.99180621]), 'points': []}}"
      ]
     },
     "execution_count": 5,
     "metadata": {},
     "output_type": "execute_result"
    }
   ],
>>>>>>> c6eb32d (Update):02_MPI_Python_Numerical_Examples/4_K_means.ipynb
   "source": [
    "k = 7\n",
    " \n",
    "clusters = {}\n",
    "np.random.seed(23)\n",
    " \n",
    "for idx in range(k):\n",
    "    center = 10*(2*np.random.random((X.shape[1],))-1)\n",
    "    points = []\n",
    "    cluster = {\n",
    "        'center' : center,\n",
    "        'points' : []\n",
    "    }\n",
    "     \n",
    "    clusters[idx] = cluster\n",
    "     \n",
    "clusters"
   ]
  },
  {
   "cell_type": "code",
<<<<<<< HEAD:02_MPI_Python_Numerical_Examples/3_K_means.ipynb
   "execution_count": null,
=======
   "execution_count": 6,
>>>>>>> c6eb32d (Update):02_MPI_Python_Numerical_Examples/4_K_means.ipynb
   "metadata": {},
   "outputs": [],
   "source": [
    "def distance(p1,p2):\n",
    "    return np.sqrt(np.sum((p1-p2)**2))\n",
    "\n",
    "#Implementing E step \n",
    "def assign_clusters(X, clusters):\n",
    "    # Iterating data point\n",
    "    for idx in range(X.shape[0]):\n",
    "        dist = []\n",
    "         \n",
    "        curr_x = X[idx]\n",
    "         \n",
    "        # Measuring a distance between data point and each k-th cluster center\n",
    "        for i in range(k):\n",
    "            dis = distance(curr_x,clusters[i]['center'])\n",
    "            dist.append(dis)\n",
    "\n",
    "        # Finding the nearest cluster\n",
    "        curr_cluster = np.argmin(dist)\n",
    "\n",
    "        # Appending the coordinate of current data point to the nearst cluster\n",
    "        clusters[curr_cluster]['points'].append(curr_x)\n",
    "    return clusters\n",
    "         \n",
    "#Implementing the M-Step\n",
    "def update_clusters(X, clusters):\n",
    "    # Iterating cluster\n",
    "    for i in range(k):\n",
    "\n",
    "        # Loading the cooridinates of data points in current cluster\n",
    "        points = np.array(clusters[i]['points'])\n",
    "\n",
    "        # Update the center of data points in current cluster\n",
    "        if points.shape[0] > 0:\n",
    "            new_center = points.mean(axis =0)\n",
    "            clusters[i]['center'] = new_center\n",
    "             \n",
    "            clusters[i]['points'] = []\n",
    "    return clusters\n",
    "\n",
    "# Data clustering\n",
    "def pred_cluster(X, clusters):\n",
    "    pred = []\n",
    "    for i in range(X.shape[0]):\n",
    "        dist = []\n",
    "        for j in range(k):\n",
    "            dist.append(distance(X[i],clusters[j]['center']))\n",
    "        pred.append(np.argmin(dist))\n",
    "    return pred\n",
    "\n",
    "# Repeat E-M steps\n",
    "for i in range (10) :\n",
    "    clusters = assign_clusters(X,clusters)\n",
    "    clusters = update_clusters(X,clusters)\n",
    "    print(clusters)\n",
    "\n",
    "# Data point clustering\n",
    "pred = pred_cluster(X,clusters)\n",
    "\n",
    "plt.scatter(X[:,0],X[:,1],c = pred)\n",
    "for i in clusters:\n",
    "    center = clusters[i]['center']\n",
    "    plt.scatter(center[0],center[1],marker = '^',c = 'red')\n",
    "plt.show()"
   ]
  },
  {
   "cell_type": "markdown",
   "metadata": {},
   "source": [
    "3. 병렬코드\n",
    "  - 의존성 분석\n",
    "    - 각 점의 거리계산은 독립적임\n",
    "    - 거리계산으로부터 무게중심 계산시 reduction 연산이 필요\n",
    "    - 출력을 위해 각 프로세스의 결과를 gather\n",
    "\n",
    "      <img src = \"images/image26.png\">"
   ]
  },
  {
   "cell_type": "code",
<<<<<<< HEAD:02_MPI_Python_Numerical_Examples/3_K_means.ipynb
   "execution_count": null,
   "metadata": {},
   "outputs": [],
=======
   "execution_count": 11,
   "metadata": {},
   "outputs": [
    {
     "name": "stdout",
     "output_type": "stream",
     "text": [
      "Overwriting examples/KM.py\n"
     ]
    }
   ],
>>>>>>> c6eb32d (Update):02_MPI_Python_Numerical_Examples/4_K_means.ipynb
   "source": [
    "%%writefile examples/KM.py\n",
    "import numpy as np\n",
    "import matplotlib.pyplot as plt\n",
    "from mpi4py import MPI\n",
    "from sklearn.datasets import make_blobs\n",
    "from tools import para_range\n",
    "\n",
    "def distance(p1,p2):\n",
    "    return np.sqrt(np.sum((p1-p2)**2))\n",
    "\n",
    "#Implementing E step \n",
    "def assign_clusters(X, clusters):\n",
    "    # Iterating data point\n",
    "    for idx in range(X.shape[0]):\n",
    "        dist = []\n",
    "         \n",
    "        curr_x = X[idx]\n",
    "         \n",
    "        # Measuring a distance between data point and each k-th cluster center\n",
    "        for i in range(k):\n",
    "            dis = distance(curr_x,clusters[i]['center'])\n",
    "            dist.append(dis)\n",
    "\n",
    "        # Finding the nearest cluster\n",
    "        curr_cluster = np.argmin(dist)\n",
    "\n",
    "        # Appending the coordinate of current data point to the nearst cluster\n",
    "        clusters[curr_cluster]['points'].append(curr_x)\n",
    "    return clusters\n",
    "         \n",
    "#Implementing the M-Step\n",
    "def update_clusters(X, clusters):\n",
    "    # Iterating cluster\n",
    "    for i in range(k):\n",
    "\n",
    "        # Loading the cooridinates of data points in current cluster\n",
    "        points = np.array(clusters[i]['points'])\n",
    "\n",
    "        # Sum and average of coordinates of data points\n",
    "        # Local sum\n",
    "        local_sums = points.sum(axis = 0)\n",
    "        # Local sum and number of data point reduction\n",
    "        n_points = #FIX ME\n",
    "        coords_sums = #FIX ME\n",
    "\n",
    "        # Update the center of data points in current cluster\n",
    "        if n_points > 0:\n",
    "            new_center = coords_sums / n_points\n",
    "            clusters[i]['center'] = new_center             \n",
    "            clusters[i]['points'] = []\n",
    "\n",
    "    return clusters\n",
    "\n",
    "# Data clustering\n",
    "def pred_cluster(X, clusters):\n",
    "    pred = []\n",
    "    for i in range(X.shape[0]):\n",
    "        dist = []\n",
    "        for j in range(k):\n",
    "            dist.append(distance(X[i],clusters[j]['center']))\n",
    "        pred.append(np.argmin(dist))\n",
    "    return pred\n",
    "\n",
    "comm = MPI.COMM_WORLD\n",
    "\n",
    "rank = comm.Get_rank()\n",
    "size = comm.Get_size()\n",
    "\n",
    "n = 500\n",
    "k = 7\n",
    "\n",
    "if rank == 0 :\n",
    "\n",
    "    X = np.load(\"examples/X.npy\")\n",
    "    y = np.load(\"examples/y.npy\")\n",
    "    \n",
    "    fig = plt.figure(0)\n",
    "    plt.grid(True)\n",
    "    plt.scatter(X[:,0], X[:,1])\n",
    "    plt.show()\n",
    "\n",
    "else : \n",
    "    X = np.empty((0, 0), dtype = np.float64)\n",
    "\n",
    "clusters = {}\n",
    "np.random.seed(23)\n",
    "\n",
    "for idx in range(k):\n",
    "    center = 10*(2*np.random.random((2,))-1)\n",
    "    points = []\n",
    "    cluster = {\n",
    "        'center' : center,\n",
    "        'points' : []\n",
    "    }\n",
    "    \n",
    "    clusters[idx] = cluster\n",
    "\n",
    "ista, iend = para_range(n, size, rank)\n",
    "\n",
    "chunk = iend - ista + 1\n",
    "\n",
    "X_chunk = np.empty([chunk,2], np.float64)\n",
    "\n",
    "chunk_cnts = comm.allgather(chunk*2)\n",
    "\n",
    "##### 데이터를 chunk로 분할. cluster 정보는 공유 (데이터 양이 크지 않음)\n",
    "comm.Scatterv( #FIX ME\n",
    "comm.bcast( #FIX ME\n",
    "\n",
    "for i in range (10) :\n",
    "    clusters = assign_clusters(X_chunk, clusters)\n",
    "    clusters = update_clusters(X_chunk,clusters)\n",
    "\n",
    "    if rank == 0 :\n",
    "        print(clusters)\n",
    "\n",
    "# Data point clustering\n",
    "pred = pred_cluster(X_chunk,clusters)\n",
    "\n",
    "##### prediction gather\n",
    "pred_all = #FIX ME\n",
    "\n",
    "if rank == 0 :\n",
    "    plt.figure(1)\n",
    "    plt.scatter(X[:,0],X[:,1], c = pred_all)\n",
    "    for i in clusters:\n",
    "        center = clusters[i]['center']\n",
    "        plt.scatter(center[0],center[1],marker = '^',c = 'red')\n",
    "    plt.savefig(\"examples/KM_paralle.png\")"
   ]
  },
  {
   "cell_type": "code",
<<<<<<< HEAD:02_MPI_Python_Numerical_Examples/3_K_means.ipynb
   "execution_count": null,
=======
   "execution_count": 12,
>>>>>>> c6eb32d (Update):02_MPI_Python_Numerical_Examples/4_K_means.ipynb
   "metadata": {},
   "outputs": [],
   "source": [
    "! mpirun -np 4 python examples/KM.py"
   ]
  },
  {
   "cell_type": "code",
   "execution_count": null,
   "metadata": {},
   "outputs": [],
   "source": []
  }
 ],
 "metadata": {
  "kernelspec": {
   "display_name": "ml",
   "language": "python",
   "name": "python3"
  },
  "language_info": {
   "codemirror_mode": {
    "name": "ipython",
    "version": 3
   },
   "file_extension": ".py",
   "mimetype": "text/x-python",
   "name": "python",
   "nbconvert_exporter": "python",
   "pygments_lexer": "ipython3",
   "version": "3.11.9"
  }
 },
 "nbformat": 4,
 "nbformat_minor": 2
}
